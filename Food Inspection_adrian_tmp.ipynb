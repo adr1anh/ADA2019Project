{
 "cells": [
  {
   "cell_type": "code",
   "execution_count": 1,
   "metadata": {
    "pycharm": {
     "is_executing": false
    }
   },
   "outputs": [],
   "source": [
    "import pandas as pd\n",
    "import numpy as np\n",
    "import json\n",
    "from IPython.display import JSON"
   ]
  },
  {
   "cell_type": "code",
   "execution_count": 62,
   "metadata": {},
   "outputs": [],
   "source": [
    "data = pd.read_csv('chicago-food-inspections/food-inspections.csv')"
   ]
  },
  {
   "cell_type": "markdown",
   "metadata": {},
   "source": [
    "#### Preprocess the data"
   ]
  },
  {
   "cell_type": "markdown",
   "metadata": {},
   "source": [
    "We only consider the columns which we use to match with Yelp. By removing duplicates, we get an approximative list of all unique businesses. "
   ]
  },
  {
   "cell_type": "code",
   "execution_count": 92,
   "metadata": {},
   "outputs": [
    {
     "data": {
      "text/plain": [
       "index       False\n",
       "DBA Name    False\n",
       "AKA Name     True\n",
       "Address     False\n",
       "City         True\n",
       "State        True\n",
       "dtype: bool"
      ]
     },
     "execution_count": 92,
     "metadata": {},
     "output_type": "execute_result"
    }
   ],
   "source": [
    "establishments = data[['DBA Name', 'AKA Name', 'Address', 'City', 'State']].copy().drop_duplicates().reset_index()\n",
    "# All Addresses exist, but we may need to examine the cities and state to complete\n",
    "establishments.isnull().any()"
   ]
  },
  {
   "cell_type": "code",
   "execution_count": 93,
   "metadata": {},
   "outputs": [],
   "source": [
    "# Add two columns to relate to Yelp data\n",
    "establishments['id'] = None\n",
    "\n",
    "# The matches column will be positive if we have already queried the API for this row\n",
    "establishments['matches'] = -1\n",
    "\n",
    "# We set the value to -1 if some of the data is missing. This will allow us to more carefully get the data.\n",
    "establishments.loc[establishments['City'].isnull(), 'matches'] = -2\n",
    "establishments.loc[establishments['City'].isnull(), 'matches'] = -2"
   ]
  },
  {
   "cell_type": "code",
   "execution_count": 97,
   "metadata": {},
   "outputs": [
    {
     "data": {
      "text/plain": [
       "index       32373\n",
       "DBA Name    27476\n",
       "AKA Name    26210\n",
       "Address     18035\n",
       "City           71\n",
       "State           4\n",
       "id              0\n",
       "matches         2\n",
       "dtype: int64"
      ]
     },
     "execution_count": 97,
     "metadata": {},
     "output_type": "execute_result"
    }
   ],
   "source": [
    "establishments.nunique()"
   ]
  },
  {
   "cell_type": "markdown",
   "metadata": {},
   "source": [
    "### Yelp Database"
   ]
  },
  {
   "cell_type": "markdown",
   "metadata": {
    "pycharm": {
     "is_executing": false
    }
   },
   "source": [
    "Connect to the Yelp API but keep the key in local environment and away from TAs wanting to use my account."
   ]
  },
  {
   "cell_type": "code",
   "execution_count": 5,
   "metadata": {
    "pycharm": {
     "is_executing": false
    }
   },
   "outputs": [],
   "source": [
    "import os\n",
    "from yelpapi import YelpAPI\n",
    "\n",
    "YELP_API_KEY = os.environ['YELP_API_KEY']\n",
    "YELP_CLIENT_ID = os.environ['YELP_CLIENT_ID']\n",
    "client = YelpAPI(YELP_API_KEY)"
   ]
  },
  {
   "cell_type": "markdown",
   "metadata": {
    "pycharm": {
     "is_executing": false
    }
   },
   "source": [
    "##### Read already acquired data"
   ]
  },
  {
   "cell_type": "code",
   "execution_count": 2,
   "metadata": {
    "pycharm": {
     "is_executing": false
    }
   },
   "outputs": [],
   "source": [
    "# The yelp_df is a selection of columns of the original df, containing only location information\n",
    "# We then drop all duplicates and reset the index in order to more easily cross reference with the new data\n",
    "# We also include a id col corresponding to the yelp id, and a count of how many results returned\n",
    "yelp_df = pd.read_pickle('yelp/yelp.pkl')\n",
    "\n",
    "# Contains the scrapped data from yelp\n",
    "scrapped = pd.read_pickle('yelp/scrapped.pkl')\n",
    "\n",
    "# Contains remaining data such as reviews, review count, price, and food categories\n",
    "business = pd.read_pickle('yelp/business.pkl')\n",
    "\n",
    "# For each business, we get 3 reviews with the start of the text and a rating \n",
    "reviews = pd.read_pickle('yelp/reviews.pkl')"
   ]
  },
  {
   "cell_type": "markdown",
   "metadata": {
    "pycharm": {
     "is_executing": false
    }
   },
   "source": [
    "##### Functions to get data from Yelp"
   ]
  },
  {
   "cell_type": "markdown",
   "metadata": {
    "pycharm": {
     "is_executing": false
    }
   },
   "source": [
    "#### Match establishments to Yelp and get ID along with address information"
   ]
  },
  {
   "cell_type": "code",
   "execution_count": 3,
   "metadata": {
    "pycharm": {
     "is_executing": false
    }
   },
   "outputs": [],
   "source": [
    "\"\"\"\n",
    "Apply transformation to a business query which will fit the format of our scrapping dataframe.\n",
    "\"\"\"\n",
    "def business_match_to_df_row(business_):\n",
    "    business = business_.copy()\n",
    "    business.update(business.pop('coordinates'))\n",
    "    business.update(business.pop('location'))\n",
    "    business.pop('phone')\n",
    "    business.pop('display_phone')\n",
    "    business.pop('country')\n",
    "    if str(business['address2']) == '' or not business['address2']:\n",
    "        del business['address2']\n",
    "    if str(business['address3']) == '' or not business['address3']:\n",
    "        business.pop('address3', None)\n",
    "    return business"
   ]
  },
  {
   "cell_type": "code",
   "execution_count": 585,
   "metadata": {
    "collapsed": false,
    "jupyter": {
     "outputs_hidden": false
    },
    "pycharm": {
     "is_executing": false,
     "name": "#%%\n"
    }
   },
   "outputs": [],
   "source": [
    "for i in range(0,len(yelp_df)):\n",
    "    # Get the i-th row of the data frame\n",
    "    row = yelp_df.iloc[i]\n",
    "\n",
    "    # Special case when our search terms contain NaN\n",
    "    if row['matches'] == -2:\n",
    "        continue\n",
    "\n",
    "    # We haven't requested the data yet and no NaN im the request\n",
    "    if row['matches'] == -1:\n",
    "        # Some rows have only DBA / AKA\n",
    "        row_name = row['DBA Name'] if row[['AKA Name']].isnull().values.any() else row['AKA Name']\n",
    "\n",
    "        # Name too long\n",
    "        if row_name == \"MAE'S EARLY CHILDHOOD DEVELOPMENT AND THERAPEUTIC DAY CARE CENTER, INCORPORATED\":\n",
    "            continue\n",
    "        query = client.business_match_query(name=row_name,\n",
    "                                            city=row['City'],\n",
    "                                            state=row['State'],\n",
    "                                            country='US',\n",
    "                                            address1=row['Address'])\n",
    "\n",
    "        # We note how many matches we got and only take the first one\n",
    "        yelp_df.loc[yelp_df.index[i], 'matches'] = len(query['businesses'])\n",
    "\n",
    "        yelp_df.loc[yelp_df.index[i], 'id'] = query['businesses'][0]['id']\n",
    "        scrapped = scrapped.append(pd.DataFrame([business_match_to_df_row(query['businesses'][0])]))\n",
    "        continue"
   ]
  },
  {
   "cell_type": "code",
   "execution_count": 750,
   "metadata": {
    "collapsed": false,
    "jupyter": {
     "outputs_hidden": false
    },
    "pycharm": {
     "is_executing": false,
     "name": "#%%\n"
    }
   },
   "outputs": [
    {
     "name": "stdout",
     "output_type": "stream",
     "text": [
      "Total unique Yelp establishments : 14497\n",
      "Total matches :  17743\n",
      "Total establishments : 32374\n",
      "Total unique matches : 12100\n",
      "Ratio matched : 0.37383755059165197\n"
     ]
    }
   ],
   "source": [
    "print('Total unique Yelp establishments :', yelp_df[yelp_df['matches'] > 0]['id'].nunique())\n",
    "print('Total matches : ', len(yelp_df[yelp_df['matches'] > 0]))\n",
    "print('Total establishments :', len(yelp_df))\n",
    "print('Total unique matches :', scrapped['id'].nunique())\n",
    "print('Ratio matched :', scrapped['id'].nunique()/len(yelp_df[yelp_df['matches'] >= 0]))"
   ]
  },
  {
   "cell_type": "markdown",
   "metadata": {
    "jupyter": {
     "outputs_hidden": false
    },
    "pycharm": {
     "is_executing": false,
     "name": "#%%\n"
    }
   },
   "source": [
    "##### Get more information for each business"
   ]
  },
  {
   "cell_type": "code",
   "execution_count": 588,
   "metadata": {
    "collapsed": false,
    "jupyter": {
     "outputs_hidden": false
    },
    "pycharm": {
     "is_executing": false,
     "name": "#%%\n"
    }
   },
   "outputs": [
    {
     "data": {
      "text/html": [
       "<div>\n",
       "<style scoped>\n",
       "    .dataframe tbody tr th:only-of-type {\n",
       "        vertical-align: middle;\n",
       "    }\n",
       "\n",
       "    .dataframe tbody tr th {\n",
       "        vertical-align: top;\n",
       "    }\n",
       "\n",
       "    .dataframe thead th {\n",
       "        text-align: right;\n",
       "    }\n",
       "</style>\n",
       "<table border=\"1\" class=\"dataframe\">\n",
       "  <thead>\n",
       "    <tr style=\"text-align: right;\">\n",
       "      <th></th>\n",
       "      <th>id</th>\n",
       "      <th>is_closed</th>\n",
       "      <th>review_count</th>\n",
       "      <th>categories</th>\n",
       "      <th>rating</th>\n",
       "      <th>price</th>\n",
       "      <th>transactions</th>\n",
       "    </tr>\n",
       "  </thead>\n",
       "  <tbody>\n",
       "    <tr>\n",
       "      <th>6190</th>\n",
       "      <td>p6mixTjSjKGcy_2AaBKzgQ</td>\n",
       "      <td>NaN</td>\n",
       "      <td>NaN</td>\n",
       "      <td>NaN</td>\n",
       "      <td>NaN</td>\n",
       "      <td>NaN</td>\n",
       "      <td>NaN</td>\n",
       "    </tr>\n",
       "    <tr>\n",
       "      <th>6192</th>\n",
       "      <td>YrOyHe-VdN-YENnm_-moHw</td>\n",
       "      <td>NaN</td>\n",
       "      <td>NaN</td>\n",
       "      <td>NaN</td>\n",
       "      <td>NaN</td>\n",
       "      <td>NaN</td>\n",
       "      <td>NaN</td>\n",
       "    </tr>\n",
       "    <tr>\n",
       "      <th>6193</th>\n",
       "      <td>aqS1qE9LnceDVoVMY77fBw</td>\n",
       "      <td>NaN</td>\n",
       "      <td>NaN</td>\n",
       "      <td>NaN</td>\n",
       "      <td>NaN</td>\n",
       "      <td>NaN</td>\n",
       "      <td>NaN</td>\n",
       "    </tr>\n",
       "    <tr>\n",
       "      <th>10231</th>\n",
       "      <td>rGYpTg_FKgfsrQDGvIdmlg</td>\n",
       "      <td>NaN</td>\n",
       "      <td>NaN</td>\n",
       "      <td>NaN</td>\n",
       "      <td>NaN</td>\n",
       "      <td>NaN</td>\n",
       "      <td>NaN</td>\n",
       "    </tr>\n",
       "    <tr>\n",
       "      <th>10448</th>\n",
       "      <td>N7FBGIQNFeK_JGCW5UkXaQ</td>\n",
       "      <td>NaN</td>\n",
       "      <td>NaN</td>\n",
       "      <td>NaN</td>\n",
       "      <td>NaN</td>\n",
       "      <td>NaN</td>\n",
       "      <td>NaN</td>\n",
       "    </tr>\n",
       "  </tbody>\n",
       "</table>\n",
       "</div>"
      ],
      "text/plain": [
       "                           id  is_closed  review_count categories  rating  \\\n",
       "6190   p6mixTjSjKGcy_2AaBKzgQ        NaN           NaN        NaN     NaN   \n",
       "6192   YrOyHe-VdN-YENnm_-moHw        NaN           NaN        NaN     NaN   \n",
       "6193   aqS1qE9LnceDVoVMY77fBw        NaN           NaN        NaN     NaN   \n",
       "10231  rGYpTg_FKgfsrQDGvIdmlg        NaN           NaN        NaN     NaN   \n",
       "10448  N7FBGIQNFeK_JGCW5UkXaQ        NaN           NaN        NaN     NaN   \n",
       "\n",
       "      price transactions  \n",
       "6190    NaN          NaN  \n",
       "6192    NaN          NaN  \n",
       "6193    NaN          NaN  \n",
       "10231   NaN          NaN  \n",
       "10448   NaN          NaN  "
      ]
     },
     "execution_count": 588,
     "metadata": {},
     "output_type": "execute_result"
    }
   ],
   "source": [
    "business[business['is_closed'].isna()]"
   ]
  },
  {
   "cell_type": "code",
   "execution_count": 589,
   "metadata": {
    "collapsed": false,
    "jupyter": {
     "outputs_hidden": false
    },
    "pycharm": {
     "is_executing": false,
     "name": "#%%\n"
    }
   },
   "outputs": [],
   "source": [
    "# Get all other information from business\n",
    "wanted_business = ['id','is_closed','review_count','categories','rating','price','transactions']\n",
    "for i in range(0,len(scrapped)):\n",
    "    row = scrapped.iloc[i]\n",
    "    if not business['id'].isin([row['id']]).any():\n",
    "        try:\n",
    "            query = client.business_query(id=row['id'])\n",
    "        except YelpAPI.YelpAPIError as e:\n",
    "            business = business.append({'id':row['id']}, ignore_index=True)\n",
    "        else:\n",
    "            result = dict((k, query[k]) for k in wanted_business if k in query)\n",
    "            business = business.append([result])"
   ]
  },
  {
   "cell_type": "code",
   "execution_count": 580,
   "metadata": {
    "collapsed": false,
    "jupyter": {
     "outputs_hidden": false
    },
    "pycharm": {
     "is_executing": false,
     "name": "#%%\n"
    }
   },
   "outputs": [
    {
     "data": {
      "text/html": [
       "<div>\n",
       "<style scoped>\n",
       "    .dataframe tbody tr th:only-of-type {\n",
       "        vertical-align: middle;\n",
       "    }\n",
       "\n",
       "    .dataframe tbody tr th {\n",
       "        vertical-align: top;\n",
       "    }\n",
       "\n",
       "    .dataframe thead th {\n",
       "        text-align: right;\n",
       "    }\n",
       "</style>\n",
       "<table border=\"1\" class=\"dataframe\">\n",
       "  <thead>\n",
       "    <tr style=\"text-align: right;\">\n",
       "      <th></th>\n",
       "      <th>index</th>\n",
       "      <th>DBA Name</th>\n",
       "      <th>AKA Name</th>\n",
       "      <th>Address</th>\n",
       "      <th>City</th>\n",
       "      <th>State</th>\n",
       "      <th>id</th>\n",
       "      <th>matches</th>\n",
       "    </tr>\n",
       "  </thead>\n",
       "  <tbody>\n",
       "    <tr>\n",
       "      <th>5951</th>\n",
       "      <td>8892</td>\n",
       "      <td>FOREST VIEW BAKERY</td>\n",
       "      <td>FOREST VIEW BAKERY</td>\n",
       "      <td>6454 N MILWAUKEE AVE</td>\n",
       "      <td>CHICAGO</td>\n",
       "      <td>IL</td>\n",
       "      <td>AvXFEa1RmfCrgVx7CQFOpA</td>\n",
       "      <td>1</td>\n",
       "    </tr>\n",
       "    <tr>\n",
       "      <th>32353</th>\n",
       "      <td>194489</td>\n",
       "      <td>FOREST VIEW DELI</td>\n",
       "      <td>FOREST VIEW DELI</td>\n",
       "      <td>6452 N MILWAUKEE AVE</td>\n",
       "      <td>CHICAGO</td>\n",
       "      <td>IL</td>\n",
       "      <td>AvXFEa1RmfCrgVx7CQFOpA</td>\n",
       "      <td>1</td>\n",
       "    </tr>\n",
       "  </tbody>\n",
       "</table>\n",
       "</div>"
      ],
      "text/plain": [
       "        index            DBA Name            AKA Name                Address  \\\n",
       "5951     8892  FOREST VIEW BAKERY  FOREST VIEW BAKERY  6454 N MILWAUKEE AVE    \n",
       "32353  194489    FOREST VIEW DELI    FOREST VIEW DELI  6452 N MILWAUKEE AVE    \n",
       "\n",
       "          City State                      id  matches  \n",
       "5951   CHICAGO    IL  AvXFEa1RmfCrgVx7CQFOpA        1  \n",
       "32353  CHICAGO    IL  AvXFEa1RmfCrgVx7CQFOpA        1  "
      ]
     },
     "execution_count": 580,
     "metadata": {},
     "output_type": "execute_result"
    }
   ],
   "source": [
    "yelp_df[yelp_df['id'] == 'AvXFEa1RmfCrgVx7CQFOpA']"
   ]
  },
  {
   "cell_type": "code",
   "execution_count": 579,
   "metadata": {
    "collapsed": false,
    "jupyter": {
     "outputs_hidden": false
    },
    "pycharm": {
     "is_executing": false,
     "name": "#%%\n"
    }
   },
   "outputs": [
    {
     "data": {
      "text/html": [
       "<div>\n",
       "<style scoped>\n",
       "    .dataframe tbody tr th:only-of-type {\n",
       "        vertical-align: middle;\n",
       "    }\n",
       "\n",
       "    .dataframe tbody tr th {\n",
       "        vertical-align: top;\n",
       "    }\n",
       "\n",
       "    .dataframe thead th {\n",
       "        text-align: right;\n",
       "    }\n",
       "</style>\n",
       "<table border=\"1\" class=\"dataframe\">\n",
       "  <thead>\n",
       "    <tr style=\"text-align: right;\">\n",
       "      <th></th>\n",
       "      <th>address1</th>\n",
       "      <th>address2</th>\n",
       "      <th>address3</th>\n",
       "      <th>alias</th>\n",
       "      <th>city</th>\n",
       "      <th>display_address</th>\n",
       "      <th>id</th>\n",
       "      <th>latitude</th>\n",
       "      <th>longitude</th>\n",
       "      <th>name</th>\n",
       "      <th>state</th>\n",
       "      <th>zip_code</th>\n",
       "    </tr>\n",
       "  </thead>\n",
       "  <tbody>\n",
       "    <tr>\n",
       "      <th>0</th>\n",
       "      <td>4660 W Irving Park Rd</td>\n",
       "      <td>NaN</td>\n",
       "      <td>NaN</td>\n",
       "      <td>jewel-osco-chicago-75</td>\n",
       "      <td>Chicago</td>\n",
       "      <td>[4660 W Irving Park Rd, Chicago, IL 60641]</td>\n",
       "      <td>xWCqqPhcuDZu-KYtGksc0g</td>\n",
       "      <td>41.955455</td>\n",
       "      <td>-87.744896</td>\n",
       "      <td>Jewel-Osco</td>\n",
       "      <td>IL</td>\n",
       "      <td>60641</td>\n",
       "    </tr>\n",
       "    <tr>\n",
       "      <th>0</th>\n",
       "      <td>4660 W Irving Park Rd</td>\n",
       "      <td>NaN</td>\n",
       "      <td>NaN</td>\n",
       "      <td>jewel-osco-chicago-75</td>\n",
       "      <td>Chicago</td>\n",
       "      <td>[4660 W Irving Park Rd, Chicago, IL 60641]</td>\n",
       "      <td>xWCqqPhcuDZu-KYtGksc0g</td>\n",
       "      <td>41.955455</td>\n",
       "      <td>-87.744896</td>\n",
       "      <td>Jewel-Osco</td>\n",
       "      <td>IL</td>\n",
       "      <td>60641</td>\n",
       "    </tr>\n",
       "  </tbody>\n",
       "</table>\n",
       "</div>"
      ],
      "text/plain": [
       "                address1 address2 address3                  alias     city  \\\n",
       "0  4660 W Irving Park Rd      NaN      NaN  jewel-osco-chicago-75  Chicago   \n",
       "0  4660 W Irving Park Rd      NaN      NaN  jewel-osco-chicago-75  Chicago   \n",
       "\n",
       "                              display_address                      id  \\\n",
       "0  [4660 W Irving Park Rd, Chicago, IL 60641]  xWCqqPhcuDZu-KYtGksc0g   \n",
       "0  [4660 W Irving Park Rd, Chicago, IL 60641]  xWCqqPhcuDZu-KYtGksc0g   \n",
       "\n",
       "    latitude  longitude        name state zip_code  \n",
       "0  41.955455 -87.744896  Jewel-Osco    IL    60641  \n",
       "0  41.955455 -87.744896  Jewel-Osco    IL    60641  "
      ]
     },
     "execution_count": 579,
     "metadata": {},
     "output_type": "execute_result"
    }
   ],
   "source": [
    "scrapped[scrapped.id == 'xWCqqPhcuDZu-KYtGksc0g']"
   ]
  },
  {
   "cell_type": "markdown",
   "metadata": {
    "jupyter": {
     "outputs_hidden": false
    },
    "pycharm": {
     "is_executing": false,
     "name": "#%%\n"
    }
   },
   "source": [
    "##### Get reviews"
   ]
  },
  {
   "cell_type": "code",
   "execution_count": 597,
   "metadata": {
    "collapsed": true,
    "jupyter": {
     "outputs_hidden": true
    },
    "pycharm": {
     "is_executing": false,
     "name": "#%%\n"
    }
   },
   "outputs": [
    {
     "ename": "YelpAPIError",
     "evalue": "BUSINESS_UNAVAILABLE: We may not be able to provide details for certain businesses, for example if they do not have any reviews yet.",
     "output_type": "error",
     "traceback": [
      "\u001b[0;31m---------------------------------------------------------------------------\u001b[0m",
      "\u001b[0;31mYelpAPIError\u001b[0m                              Traceback (most recent call last)",
      "\u001b[0;32m<ipython-input-597-32389b9419d5>\u001b[0m in \u001b[0;36m<module>\u001b[0;34m\u001b[0m\n\u001b[1;32m      3\u001b[0m     \u001b[0mrow\u001b[0m \u001b[0;34m=\u001b[0m \u001b[0mscrapped\u001b[0m\u001b[0;34m.\u001b[0m\u001b[0miloc\u001b[0m\u001b[0;34m[\u001b[0m\u001b[0mi\u001b[0m\u001b[0;34m]\u001b[0m\u001b[0;34m\u001b[0m\u001b[0;34m\u001b[0m\u001b[0m\n\u001b[1;32m      4\u001b[0m     \u001b[0;32mif\u001b[0m \u001b[0;32mnot\u001b[0m \u001b[0mreviews\u001b[0m\u001b[0;34m[\u001b[0m\u001b[0;34m'id'\u001b[0m\u001b[0;34m]\u001b[0m\u001b[0;34m.\u001b[0m\u001b[0misin\u001b[0m\u001b[0;34m(\u001b[0m\u001b[0;34m[\u001b[0m\u001b[0mrow\u001b[0m\u001b[0;34m[\u001b[0m\u001b[0;34m'id'\u001b[0m\u001b[0;34m]\u001b[0m\u001b[0;34m]\u001b[0m\u001b[0;34m)\u001b[0m\u001b[0;34m.\u001b[0m\u001b[0many\u001b[0m\u001b[0;34m(\u001b[0m\u001b[0;34m)\u001b[0m\u001b[0;34m:\u001b[0m\u001b[0;34m\u001b[0m\u001b[0;34m\u001b[0m\u001b[0m\n\u001b[0;32m----> 5\u001b[0;31m         \u001b[0mquery\u001b[0m \u001b[0;34m=\u001b[0m \u001b[0mclient\u001b[0m\u001b[0;34m.\u001b[0m\u001b[0mreviews_query\u001b[0m\u001b[0;34m(\u001b[0m\u001b[0mid\u001b[0m\u001b[0;34m=\u001b[0m\u001b[0mrow\u001b[0m\u001b[0;34m[\u001b[0m\u001b[0;34m'id'\u001b[0m\u001b[0;34m]\u001b[0m\u001b[0;34m)\u001b[0m\u001b[0;34m\u001b[0m\u001b[0;34m\u001b[0m\u001b[0m\n\u001b[0m\u001b[1;32m      6\u001b[0m         \u001b[0;32mfor\u001b[0m \u001b[0mreview\u001b[0m \u001b[0;32min\u001b[0m \u001b[0mquery\u001b[0m\u001b[0;34m[\u001b[0m\u001b[0;34m'reviews'\u001b[0m\u001b[0;34m]\u001b[0m\u001b[0;34m:\u001b[0m\u001b[0;34m\u001b[0m\u001b[0;34m\u001b[0m\u001b[0m\n\u001b[1;32m      7\u001b[0m             \u001b[0mresult\u001b[0m \u001b[0;34m=\u001b[0m \u001b[0mdict\u001b[0m\u001b[0;34m(\u001b[0m\u001b[0;34m(\u001b[0m\u001b[0mk\u001b[0m\u001b[0;34m,\u001b[0m \u001b[0mreview\u001b[0m\u001b[0;34m[\u001b[0m\u001b[0mk\u001b[0m\u001b[0;34m]\u001b[0m\u001b[0;34m)\u001b[0m \u001b[0;32mfor\u001b[0m \u001b[0mk\u001b[0m \u001b[0;32min\u001b[0m \u001b[0mwanted_reviews\u001b[0m \u001b[0;32mif\u001b[0m \u001b[0mk\u001b[0m \u001b[0;32min\u001b[0m \u001b[0mreview\u001b[0m\u001b[0;34m)\u001b[0m\u001b[0;34m\u001b[0m\u001b[0;34m\u001b[0m\u001b[0m\n",
      "\u001b[0;32m/usr/local/anaconda3/envs/ada/lib/python3.7/site-packages/yelpapi/yelpapi.py\u001b[0m in \u001b[0;36mreviews_query\u001b[0;34m(self, id, **kwargs)\u001b[0m\n\u001b[1;32m    215\u001b[0m             \u001b[0;32mraise\u001b[0m \u001b[0mValueError\u001b[0m\u001b[0;34m(\u001b[0m\u001b[0;34m'A valid business ID (parameter \"id\") must be provided.'\u001b[0m\u001b[0;34m)\u001b[0m\u001b[0;34m\u001b[0m\u001b[0;34m\u001b[0m\u001b[0m\n\u001b[1;32m    216\u001b[0m \u001b[0;34m\u001b[0m\u001b[0m\n\u001b[0;32m--> 217\u001b[0;31m         \u001b[0;32mreturn\u001b[0m \u001b[0mself\u001b[0m\u001b[0;34m.\u001b[0m\u001b[0m_query\u001b[0m\u001b[0;34m(\u001b[0m\u001b[0mREVIEWS_API_URL\u001b[0m\u001b[0;34m.\u001b[0m\u001b[0mformat\u001b[0m\u001b[0;34m(\u001b[0m\u001b[0mid\u001b[0m\u001b[0;34m)\u001b[0m\u001b[0;34m,\u001b[0m \u001b[0;34m**\u001b[0m\u001b[0mkwargs\u001b[0m\u001b[0;34m)\u001b[0m\u001b[0;34m\u001b[0m\u001b[0;34m\u001b[0m\u001b[0m\n\u001b[0m\u001b[1;32m    218\u001b[0m \u001b[0;34m\u001b[0m\u001b[0m\n\u001b[1;32m    219\u001b[0m     \u001b[0;32mdef\u001b[0m \u001b[0msearch_query\u001b[0m\u001b[0;34m(\u001b[0m\u001b[0mself\u001b[0m\u001b[0;34m,\u001b[0m \u001b[0;34m**\u001b[0m\u001b[0mkwargs\u001b[0m\u001b[0;34m)\u001b[0m\u001b[0;34m:\u001b[0m\u001b[0;34m\u001b[0m\u001b[0;34m\u001b[0m\u001b[0m\n",
      "\u001b[0;32m/usr/local/anaconda3/envs/ada/lib/python3.7/site-packages/yelpapi/yelpapi.py\u001b[0m in \u001b[0;36m_query\u001b[0;34m(self, url, **kwargs)\u001b[0m\n\u001b[1;32m    281\u001b[0m         \u001b[0;32mif\u001b[0m \u001b[0;34m'error'\u001b[0m \u001b[0;32min\u001b[0m \u001b[0mresponse_json\u001b[0m\u001b[0;34m:\u001b[0m\u001b[0;34m\u001b[0m\u001b[0;34m\u001b[0m\u001b[0m\n\u001b[1;32m    282\u001b[0m             raise YelpAPI.YelpAPIError('{}: {}'.format(response_json['error']['code'],\n\u001b[0;32m--> 283\u001b[0;31m                                                        response_json['error']['description']))\n\u001b[0m\u001b[1;32m    284\u001b[0m \u001b[0;34m\u001b[0m\u001b[0m\n\u001b[1;32m    285\u001b[0m         \u001b[0;31m# we got a good response, so return\u001b[0m\u001b[0;34m\u001b[0m\u001b[0;34m\u001b[0m\u001b[0;34m\u001b[0m\u001b[0m\n",
      "\u001b[0;31mYelpAPIError\u001b[0m: BUSINESS_UNAVAILABLE: We may not be able to provide details for certain businesses, for example if they do not have any reviews yet."
     ]
    }
   ],
   "source": [
    "wanted_reviews = ['id','text','rating','time_created']\n",
    "for i in range(0,1000):\n",
    "    row = scrapped.iloc[i]\n",
    "    if not reviews['id'].isin([row['id']]).any():\n",
    "        query = client.reviews_query(id=row['id'])\n",
    "        for review in query['reviews']:\n",
    "            result = dict((k, review[k]) for k in wanted_reviews if k in review)\n",
    "            result.update({'business_id':row['id']})\n",
    "            reviews = reviews.append([result])"
   ]
  },
  {
   "cell_type": "markdown",
   "metadata": {
    "jupyter": {
     "outputs_hidden": false
    },
    "pycharm": {
     "is_executing": false,
     "name": "#%%\n"
    }
   },
   "source": [
    "##### Save the all data"
   ]
  },
  {
   "cell_type": "code",
   "execution_count": 700,
   "metadata": {
    "collapsed": false,
    "jupyter": {
     "outputs_hidden": false
    },
    "pycharm": {
     "is_executing": false,
     "name": "#%%\n"
    }
   },
   "outputs": [],
   "source": [
    "yelp_df.to_pickle('yelp/yelp.pkl')\n",
    "scrapped.to_pickle('yelp/scrapped.pkl')\n",
    "business.to_pickle('yelp/business.pkl')\n",
    "reviews.to_pickle('yelp/reviews.pkl')"
   ]
  },
  {
   "cell_type": "code",
   "execution_count": 74,
   "metadata": {},
   "outputs": [],
   "source": [
    "data = pd.read_pickle('clean.pkl')"
   ]
  },
  {
   "cell_type": "markdown",
   "metadata": {},
   "source": [
    "## Yelp Data Analysis"
   ]
  },
  {
   "cell_type": "code",
   "execution_count": 671,
   "metadata": {},
   "outputs": [],
   "source": [
    "from sklearn.ensemble import RandomForestClassifier\n",
    "from sklearn.tree import DecisionTreeClassifier\n",
    "from sklearn.linear_model import LogisticRegression\n",
    "from sklearn.model_selection import train_test_split\n",
    "from sklearn.metrics import classification_report, confusion_matrix, mean_squared_error,r2_score, roc_auc_score, roc_curve\n",
    "from sklearn.linear_model import LinearRegression\n",
    "from sklearn import preprocessing\n",
    "from sklearn.preprocessing import OneHotEncoder, LabelEncoder\n",
    "import statsmodels.api as sm\n",
    "import random\n",
    "import numpy as np\n",
    "from matplotlib import pyplot"
   ]
  },
  {
   "cell_type": "markdown",
   "metadata": {},
   "source": [
    "#### Clean the data\n",
    "\n",
    "We must first recombine the results from Yelp with the original database. \n",
    "\n",
    "We will only consider establishments individually and get some aggregates of all their inspections.\n",
    "\n",
    "Because we are looking at Yelp reviews as of December 2019, it would we should make sure that we only take recent inspections.\n",
    "\n",
    "We only look at canvass type inspections as restaurant owners are not aware they will be inspected, and this it will probide a more accurate view of the "
   ]
  },
  {
   "cell_type": "code",
   "execution_count": 1162,
   "metadata": {},
   "outputs": [],
   "source": [
    "pd.set_option('display.max_columns', None)\n",
    "\n",
    "# Add column name like the clean BD\n",
    "tmp_df = yelp_df.copy()\n",
    "tmp_df['Name'] = tmp_df['AKA Name'].fillna(tmp_df['DBA Name'])\n",
    "\n",
    "clean_data = pd.read_pickle('data/data.pkl')\n",
    "clean_data = clean_data.merge(right=tmp_df[['Name', 'Address','id']], how='inner', left_on=['Name', 'Address'],right_on=['Name', 'Address'])\n",
    "\n",
    "# Remove the ones without ID\n",
    "clean_data = clean_data[~clean_data['id'].isna()]\n",
    "clean_data = clean_data.merge(right=scrapped, how='inner', on='id')\n",
    "clean_data = clean_data.merge(right=business[~business['review_count'].isna()], how='inner', on='id')\n",
    "\n",
    "# Set the column types correctly \n",
    "clean_data['is_closed'] = clean_data['is_closed'].apply(lambda x: False if x < 1 else True).astype('category')\n",
    "clean_data['datetime'] = pd.to_datetime(clean_data[['year', 'month', 'day']])\n",
    "clean_data['review_count'] = clean_data['review_count'].astype('int64')\n",
    "clean_data['Risk'] = clean_data['Risk'].astype('category')\n",
    "clean_data['Facility Type'] = clean_data['Facility Type'].astype('category')\n",
    "clean_data['state'] = clean_data['state'].astype('category')\n",
    "clean_data['price'] = clean_data['price'].fillna('').apply(lambda x: len(x))\n",
    "\n",
    "\n",
    "# Remove some things\n",
    "clean_data = clean_data[clean_data['Results'] != 'No Entry']\n",
    "clean_data = clean_data[clean_data['datetime'] > pd.Timestamp(2019,1,1)]\n",
    "clean_data = clean_data[clean_data['Inspection Type'] == 'canvass']\n",
    "\n",
    "# Get latest result and risk level\n",
    "latest = clean_data[~clean_data['Results'].isin(['Out of Business','Not Ready', 'Business Not Located'])]\n",
    "latest = latest.loc[latest.groupby('id')['datetime'].idxmax()][['id','Risk','Results']]\n",
    "latest.columns = ['id', 'last_risk', 'last_result']\n",
    "latest['last_risk'] = latest['last_risk'].astype('category')\n",
    "latest['last_result'] = latest['last_result'].astype('category')\n",
    "\n",
    "# Create table with pass status for each ID\n",
    "pass_status = clean_data.groupby(['id','Results']).size().unstack(1).fillna(0).astype('int64')\n",
    "pass_status['pass_fail_ratio'] = (pass_status['Pass w/ Conditions'] + pass_status['Pass'])/(pass_status['Fail'] + pass_status['Pass w/ Conditions'] + pass_status['Pass'])\n",
    "pass_status['result_max'] = pass_status.idxmax(axis=1) \n",
    "\n",
    "clean_data = clean_data.merge(right=latest, how='inner', on='id')\n",
    "clean_data = clean_data.merge(right=pass_status, how='inner', on='id')\n",
    "\n",
    "# Interestingly there are business that have been reevaluated after being checked OOB\n",
    "clean_data = clean_data[(clean_data['Out of Business'] == 0)]\n",
    "clean_data = clean_data[~clean_data['last_result'].isin(['Out of Business','Not Ready', 'Business Not Located'])]\n",
    "clean_data['last_result'] = clean_data['last_result'].cat.remove_unused_categories()"
   ]
  },
  {
   "cell_type": "markdown",
   "metadata": {},
   "source": [
    "#### Comparing means"
   ]
  },
  {
   "cell_type": "markdown",
   "metadata": {},
   "source": [
    "We only take the rating, price category, latest inspection result, number of results, then plot a histogram of ratings."
   ]
  },
  {
   "cell_type": "code",
   "execution_count": 1173,
   "metadata": {},
   "outputs": [
    {
     "name": "stdout",
     "output_type": "stream",
     "text": [
      "2: full pass \n",
      "1: passed with conditions \n",
      "0: fail\n",
      "1    2105\n",
      "0     789\n",
      "2     474\n",
      "Name: pass, dtype: int64\n"
     ]
    },
    {
     "data": {
      "image/png": "[encoded data removed]",
      "text/plain": [
       "<Figure size 432x288 with 1 Axes>"
      ]
     },
     "metadata": {
      "needs_background": "light"
     },
     "output_type": "display_data"
    }
   ],
   "source": [
    "features = [ 'id', 'rating','price', 'last_result', 'review_count']\n",
    "\n",
    "X = clean_data[features].drop_duplicates().set_index('id')\n",
    "X = X[(X.review_count > 4)]\n",
    "X = pd.get_dummies(X, drop_first=True)\n",
    "X['pass'] = 2*X['last_result_Pass'] + X['last_result_Pass w/ Conditions']\n",
    "X = X.drop(columns=['last_result_Pass','last_result_Pass w/ Conditions', 'review_count'])\n",
    "X['price'] = X['price'].apply(lambda x: np.ceil(x/2))\n",
    "print(\"2: full pass \\n1: passed with conditions \\n0: fail\")\n",
    "print(X['pass'].value_counts())\n",
    "\n",
    "bins = np.arange(1, 5 + .5, .5)\n",
    "pyplot.hist(X[X['pass'] == 1]['rating'], bins=bins, alpha=0.5, label='pass_cond')\n",
    "pyplot.hist(X[X['pass'] == 2]['rating'], bins=bins, alpha=0.5, label='pass')\n",
    "pyplot.hist(X[X['pass'] == 0]['rating'], bins=bins, alpha=0.5, label='fail')\n",
    "pyplot.legend(loc='upper left')\n",
    "pyplot.title(\"Number of restaurants with given Yelp rating, grouped by their last inspection result\")\n",
    "pyplot.xlabel(\"Rating\")\n",
    "pyplot.ylabel(\"Count\")\n",
    "pyplot.show()"
   ]
  },
  {
   "cell_type": "markdown",
   "metadata": {},
   "source": [
    "After grouping the results by their price category (no data, \\\\$ 0 - \\\\$ 30, \\\\$ 30 +), we look at the mean score for establishments that passed, passed conditionnaly or failed."
   ]
  },
  {
   "cell_type": "code",
   "execution_count": 1114,
   "metadata": {},
   "outputs": [
    {
     "data": {
      "text/html": [
       "<div>\n",
       "<style scoped>\n",
       "    .dataframe tbody tr th:only-of-type {\n",
       "        vertical-align: middle;\n",
       "    }\n",
       "\n",
       "    .dataframe tbody tr th {\n",
       "        vertical-align: top;\n",
       "    }\n",
       "\n",
       "    .dataframe thead th {\n",
       "        text-align: right;\n",
       "    }\n",
       "</style>\n",
       "<table border=\"1\" class=\"dataframe\">\n",
       "  <thead>\n",
       "    <tr style=\"text-align: right;\">\n",
       "      <th></th>\n",
       "      <th></th>\n",
       "      <th>mean</th>\n",
       "      <th>count</th>\n",
       "    </tr>\n",
       "    <tr>\n",
       "      <th>price</th>\n",
       "      <th>pass</th>\n",
       "      <th></th>\n",
       "      <th></th>\n",
       "    </tr>\n",
       "  </thead>\n",
       "  <tbody>\n",
       "    <tr>\n",
       "      <th rowspan=\"3\" valign=\"top\">0.0</th>\n",
       "      <th>0</th>\n",
       "      <td>3.725275</td>\n",
       "      <td>91</td>\n",
       "    </tr>\n",
       "    <tr>\n",
       "      <th>1</th>\n",
       "      <td>3.897619</td>\n",
       "      <td>210</td>\n",
       "    </tr>\n",
       "    <tr>\n",
       "      <th>2</th>\n",
       "      <td>3.670213</td>\n",
       "      <td>94</td>\n",
       "    </tr>\n",
       "    <tr>\n",
       "      <th rowspan=\"3\" valign=\"top\">1.0</th>\n",
       "      <th>0</th>\n",
       "      <td>3.636905</td>\n",
       "      <td>672</td>\n",
       "    </tr>\n",
       "    <tr>\n",
       "      <th>1</th>\n",
       "      <td>3.615874</td>\n",
       "      <td>1808</td>\n",
       "    </tr>\n",
       "    <tr>\n",
       "      <th>2</th>\n",
       "      <td>3.400552</td>\n",
       "      <td>362</td>\n",
       "    </tr>\n",
       "    <tr>\n",
       "      <th rowspan=\"3\" valign=\"top\">2.0</th>\n",
       "      <th>0</th>\n",
       "      <td>3.519231</td>\n",
       "      <td>26</td>\n",
       "    </tr>\n",
       "    <tr>\n",
       "      <th>1</th>\n",
       "      <td>3.913793</td>\n",
       "      <td>87</td>\n",
       "    </tr>\n",
       "    <tr>\n",
       "      <th>2</th>\n",
       "      <td>4.138889</td>\n",
       "      <td>18</td>\n",
       "    </tr>\n",
       "  </tbody>\n",
       "</table>\n",
       "</div>"
      ],
      "text/plain": [
       "                mean  count\n",
       "price pass                 \n",
       "0.0   0     3.725275     91\n",
       "      1     3.897619    210\n",
       "      2     3.670213     94\n",
       "1.0   0     3.636905    672\n",
       "      1     3.615874   1808\n",
       "      2     3.400552    362\n",
       "2.0   0     3.519231     26\n",
       "      1     3.913793     87\n",
       "      2     4.138889     18"
      ]
     },
     "execution_count": 1114,
     "metadata": {},
     "output_type": "execute_result"
    }
   ],
   "source": [
    "X.groupby(['price','pass'])['rating'].agg(['mean','count'])"
   ]
  },
  {
   "cell_type": "markdown",
   "metadata": {},
   "source": [
    "For each category, we look at the mean of restaurants that failed, compared to those that passed, and their difference."
   ]
  },
  {
   "cell_type": "code",
   "execution_count": 1119,
   "metadata": {},
   "outputs": [
    {
     "data": {
      "text/plain": [
       "price\n",
       "0.0    [3.7252747252747254, 3.8273026315789473, 0.102...\n",
       "1.0    [3.636904761904762, 3.579953917050691, -0.0569...\n",
       "2.0    [3.519230769230769, 3.9523809523809526, 0.4331...\n",
       "dtype: object"
      ]
     },
     "execution_count": 1119,
     "metadata": {},
     "output_type": "execute_result"
    }
   ],
   "source": [
    "X.groupby(['price']).apply(lambda x: [x[x['pass'] == 0]['rating'].mean(),\n",
    "                                      x[x['pass'] > 0 ]['rating'].mean(),\n",
    "                                      x[x['pass'] > 0]['rating'].mean() - x[x['pass'] == 0 ]['rating'].mean()])"
   ]
  },
  {
   "cell_type": "markdown",
   "metadata": {},
   "source": [
    "Results of a t-test for each price category. Only the \\\\$ 30 + category is significant."
   ]
  },
  {
   "cell_type": "code",
   "execution_count": 1120,
   "metadata": {},
   "outputs": [
    {
     "data": {
      "text/plain": [
       "price\n",
       "0.0     (-0.9278389008292174, 0.35406062236637204)\n",
       "1.0      (1.8283968629916107, 0.06759484903682784)\n",
       "2.0    (-3.486125407768093, 0.0006703877124443016)\n",
       "dtype: object"
      ]
     },
     "execution_count": 1120,
     "metadata": {},
     "output_type": "execute_result"
    }
   ],
   "source": [
    "X.groupby(['price']).apply(lambda x: stats.ttest_ind(x[x['pass'] == 0]['rating'],x[x['pass'] > 0 ]['rating']))"
   ]
  },
  {
   "cell_type": "markdown",
   "metadata": {},
   "source": [
    "### Logistic Classification\n",
    "\n"
   ]
  },
  {
   "cell_type": "markdown",
   "metadata": {},
   "source": [
    "We apply the same transformation, combining the pass_cond and pass rating, and taking a random sample of equal size for both categories."
   ]
  },
  {
   "cell_type": "code",
   "execution_count": 1174,
   "metadata": {},
   "outputs": [
    {
     "name": "stdout",
     "output_type": "stream",
     "text": [
      "1    789\n",
      "0    789\n",
      "Name: pass, dtype: int64\n"
     ]
    }
   ],
   "source": [
    "features = [ 'id', 'rating','price', 'last_result', 'review_count']\n",
    "\n",
    "X = clean_data[features].drop_duplicates().set_index('id')\n",
    "X = X[(X.review_count > 4)]# & (X['price'] > 0) & (X['price'] < 4)]\n",
    "X = pd.get_dummies(X, drop_first=True)\n",
    "X['pass'] = 1*X['last_result_Pass'] + X['last_result_Pass w/ Conditions']\n",
    "X = X.drop(columns=['last_result_Pass','last_result_Pass w/ Conditions', 'review_count'])\n",
    "X['price'] = X['price'].apply(lambda x: np.ceil(x/2))\n",
    "\n",
    "X_fail = X[X['pass'] == 0]\n",
    "X_pass = X[X['pass'] > 0]\n",
    "X_pass = X_pass.sample(n=X_fail.shape[0], random_state=0)\n",
    "X = X_fail.append(X_pass)\n",
    "print(X['pass'].value_counts())\n",
    "\n",
    "x_train, x_test, y_train, y_test = train_test_split(X.drop(columns=['pass']), X['pass'], test_size=0.25, random_state=42)"
   ]
  },
  {
   "cell_type": "markdown",
   "metadata": {},
   "source": [
    "We now try to fit a logistic model to determine a probability that a restaurant passes the inspection given its rating.\n",
    "This is however not very significant."
   ]
  },
  {
   "cell_type": "code",
   "execution_count": 1175,
   "metadata": {},
   "outputs": [
    {
     "name": "stdout",
     "output_type": "stream",
     "text": [
      "Optimization terminated successfully.\n",
      "         Current function value: 0.781289\n",
      "         Iterations 3\n",
      "                         Results: Logit\n",
      "================================================================\n",
      "Model:              Logit            Pseudo R-squared: inf      \n",
      "Dependent Variable: pass             AIC:              1852.5298\n",
      "Date:               2019-12-19 19:34 BIC:              1862.6814\n",
      "No. Observations:   1183             Log-Likelihood:   -924.26  \n",
      "Df Model:           1                LL-Null:          0.0000   \n",
      "Df Residuals:       1181             LLR p-value:      1.0000   \n",
      "Converged:          1.0000           Scale:            1.0000   \n",
      "No. Iterations:     3.0000                                      \n",
      "------------------------------------------------------------------\n",
      "           Coef.    Std.Err.      z      P>|z|     [0.025   0.975]\n",
      "------------------------------------------------------------------\n",
      "rating     0.0250     0.0367    0.6804   0.4963   -0.0469   0.0969\n",
      "price     -0.0729     0.1382   -0.5271   0.5981   -0.3438   0.1981\n",
      "================================================================\n",
      "\n"
     ]
    },
    {
     "name": "stderr",
     "output_type": "stream",
     "text": [
      "/usr/local/anaconda3/envs/ada/lib/python3.7/site-packages/statsmodels/base/model.py:492: HessianInversionWarning: Inverting hessian failed, no bse or cov_params available\n",
      "  'available', HessianInversionWarning)\n",
      "/usr/local/anaconda3/envs/ada/lib/python3.7/site-packages/statsmodels/base/model.py:492: HessianInversionWarning: Inverting hessian failed, no bse or cov_params available\n",
      "  'available', HessianInversionWarning)\n",
      "/usr/local/anaconda3/envs/ada/lib/python3.7/site-packages/statsmodels/discrete/discrete_model.py:3390: RuntimeWarning: divide by zero encountered in double_scalars\n",
      "  return 1 - self.llf/self.llnull\n"
     ]
    }
   ],
   "source": [
    "logit_model = sm.Logit(y_train,x_train)\n",
    "result = logit_model.fit()\n",
    "print(result.summary2())"
   ]
  },
  {
   "cell_type": "code",
   "execution_count": 1176,
   "metadata": {},
   "outputs": [
    {
     "name": "stdout",
     "output_type": "stream",
     "text": [
      "Accuracy of logistic regression classifier on test set: 0.48\n",
      "[[ 45 159]\n",
      " [ 47 144]]\n",
      "              precision    recall  f1-score   support\n",
      "\n",
      "           0       0.49      0.22      0.30       204\n",
      "           1       0.48      0.75      0.58       191\n",
      "\n",
      "    accuracy                           0.48       395\n",
      "   macro avg       0.48      0.49      0.44       395\n",
      "weighted avg       0.48      0.48      0.44       395\n",
      "\n"
     ]
    },
    {
     "name": "stderr",
     "output_type": "stream",
     "text": [
      "/usr/local/anaconda3/envs/ada/lib/python3.7/site-packages/sklearn/linear_model/logistic.py:432: FutureWarning: Default solver will be changed to 'lbfgs' in 0.22. Specify a solver to silence this warning.\n",
      "  FutureWarning)\n"
     ]
    }
   ],
   "source": [
    "logreg = LogisticRegression()\n",
    "logreg.fit(x_train, y_train)\n",
    "y_pred = logreg.predict(x_test)\n",
    "print('Accuracy of logistic regression classifier on test set: {:.2f}'.format(logreg.score(x_test, y_test)))\n",
    "\n",
    "cm = confusion_matrix(y_test, y_pred)\n",
    "print(cm)\n",
    "print(classification_report(y_test, y_pred))"
   ]
  },
  {
   "cell_type": "code",
   "execution_count": 1177,
   "metadata": {},
   "outputs": [
    {
     "data": {
      "image/png": "[encoded data removed]",
      "text/plain": [
       "<Figure size 432x288 with 1 Axes>"
      ]
     },
     "metadata": {
      "needs_background": "light"
     },
     "output_type": "display_data"
    }
   ],
   "source": [
    "logit_roc_auc = roc_auc_score(y_test, logreg.predict(x_test))\n",
    "fpr, tpr, thresholds = roc_curve(y_test, logreg.predict_proba(x_test)[:,1])\n",
    "plt.figure()\n",
    "plt.plot(fpr, tpr, label='Logistic Regression (area = %0.2f)' % logit_roc_auc)\n",
    "plt.plot([0, 1], [0, 1],'r--')\n",
    "plt.xlim([0.0, 1.0])\n",
    "plt.ylim([0.0, 1.05])\n",
    "plt.xlabel('False Positive Rate')\n",
    "plt.ylabel('True Positive Rate')\n",
    "plt.title('Receiver operating characteristic')\n",
    "plt.legend(loc=\"lower right\")\n",
    "plt.show()"
   ]
  },
  {
   "cell_type": "markdown",
   "metadata": {},
   "source": [
    "### Linear Model\n",
    "\n",
    "We try to use a linear model but this is not very useful for our use case. We leave still leave it here."
   ]
  },
  {
   "cell_type": "code",
   "execution_count": 1158,
   "metadata": {},
   "outputs": [
    {
     "name": "stdout",
     "output_type": "stream",
     "text": [
      "Coefficients: \n",
      " [ 0.01041576 -0.01371361]\n",
      "Mean squared error: 0.25\n",
      "Coefficient of determination: -0.00\n"
     ]
    }
   ],
   "source": [
    "# Create linear regression object\n",
    "regr = LinearRegression()\n",
    "\n",
    "# Train the model using the training sets\n",
    "regr.fit(x_train, y_train)\n",
    "\n",
    "# Make predictions using the testing set\n",
    "y_pred = regr.predict(x_test)\n",
    "\n",
    "# The coefficients\n",
    "print('Coefficients: \\n', regr.coef_)\n",
    "# The mean squared error\n",
    "print('Mean squared error: %.2f'\n",
    "      % mean_squared_error(y_test, y_pred))\n",
    "# The coefficient of determination: 1 is perfect prediction\n",
    "print('Coefficient of determination: %.2f'\n",
    "      % r2_score(y_test, y_pred))"
   ]
  },
  {
   "cell_type": "code",
   "execution_count": 1157,
   "metadata": {},
   "outputs": [
    {
     "name": "stdout",
     "output_type": "stream",
     "text": [
      "                                 OLS Regression Results                                \n",
      "=======================================================================================\n",
      "Dep. Variable:                   pass   R-squared (uncentered):                  -2.530\n",
      "Model:                            OLS   Adj. R-squared (uncentered):             -2.536\n",
      "Method:                 Least Squares   F-statistic:                             -423.2\n",
      "Date:                Thu, 19 Dec 2019   Prob (F-statistic):                        1.00\n",
      "Time:                        18:36:58   Log-Likelihood:                         -874.13\n",
      "No. Observations:                1183   AIC:                                      1752.\n",
      "Df Residuals:                    1181   BIC:                                      1762.\n",
      "Df Model:                           2                                                  \n",
      "Covariance Type:            nonrobust                                                  \n",
      "==============================================================================\n",
      "                 coef    std err          t      P>|t|      [0.025      0.975]\n",
      "------------------------------------------------------------------------------\n",
      "rating         0.1112      0.009     11.968      0.000       0.093       0.129\n",
      "price          0.0945      0.035      2.700      0.007       0.026       0.163\n",
      "==============================================================================\n",
      "Omnibus:                     4727.811   Durbin-Watson:                   2.058\n",
      "Prob(Omnibus):                  0.000   Jarque-Bera (JB):              175.227\n",
      "Skew:                          -0.014   Prob(JB):                     8.91e-39\n",
      "Kurtosis:                       1.115   Cond. No.                         9.34\n",
      "==============================================================================\n",
      "\n",
      "Warnings:\n",
      "[1] Standard Errors assume that the covariance matrix of the errors is correctly specified.\n"
     ]
    }
   ],
   "source": [
    "results = sm.OLS(y_train, x_train).fit()\n",
    "print(results.summary())"
   ]
  },
  {
   "cell_type": "code",
   "execution_count": null,
   "metadata": {},
   "outputs": [],
   "source": []
  }
 ],
 "metadata": {
  "kernelspec": {
   "display_name": "Python [conda env:ada] *",
   "language": "python",
   "name": "conda-env-ada-py"
  },
  "language_info": {
   "codemirror_mode": {
    "name": "ipython",
    "version": 3
   },
   "file_extension": ".py",
   "mimetype": "text/x-python",
   "name": "python",
   "nbconvert_exporter": "python",
   "pygments_lexer": "ipython3",
   "version": "3.7.5"
  },
  "pycharm": {
   "stem_cell": {
    "cell_type": "raw",
    "metadata": {
     "collapsed": false
    },
    "source": []
   }
  }
 },
 "nbformat": 4,
 "nbformat_minor": 4
}
