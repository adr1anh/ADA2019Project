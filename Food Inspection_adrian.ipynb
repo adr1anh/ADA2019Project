{
 "cells": [
  {
   "cell_type": "code",
   "execution_count": 1,
   "metadata": {
    "pycharm": {
     "is_executing": false
    }
   },
   "outputs": [],
   "source": [
    "import pandas as pd\n",
    "import numpy as np\n",
    "import re\n",
    "\n",
    "import json\n",
    "\n",
    "from IPython.display import JSON"
   ]
  },
  {
   "cell_type": "code",
   "execution_count": 62,
   "metadata": {},
   "outputs": [],
   "source": [
    "data = pd.read_csv('chicago-food-inspections/food-inspections.csv')"
   ]
  },
  {
   "cell_type": "markdown",
   "metadata": {},
   "source": [
    "#### Preprocess the data"
   ]
  },
  {
   "cell_type": "code",
   "execution_count": 92,
   "metadata": {},
   "outputs": [
    {
     "data": {
      "text/plain": [
       "index       False\n",
       "DBA Name    False\n",
       "AKA Name     True\n",
       "Address     False\n",
       "City         True\n",
       "State        True\n",
       "dtype: bool"
      ]
     },
     "execution_count": 92,
     "metadata": {},
     "output_type": "execute_result"
    }
   ],
   "source": [
    "establishments = data[['DBA Name', 'AKA Name', 'Address', 'City', 'State']].copy().drop_duplicates().reset_index()\n",
    "establishments.isnull().any()"
   ]
  },
  {
   "cell_type": "code",
   "execution_count": 93,
   "metadata": {},
   "outputs": [],
   "source": [
    "# Add two columns to relate to Yelp data\n",
    "establishments['id'] = None\n",
    "establishments['matches'] = -1\n",
    "\n",
    "establishments.loc[establishments['City'].isnull(), 'matches'] = -2\n",
    "establishments.loc[establishments['City'].isnull(), 'matches'] = -2"
   ]
  },
  {
   "cell_type": "code",
   "execution_count": 97,
   "metadata": {},
   "outputs": [
    {
     "data": {
      "text/plain": [
       "index       32373\n",
       "DBA Name    27476\n",
       "AKA Name    26210\n",
       "Address     18035\n",
       "City           71\n",
       "State           4\n",
       "id              0\n",
       "matches         2\n",
       "dtype: int64"
      ]
     },
     "execution_count": 97,
     "metadata": {},
     "output_type": "execute_result"
    }
   ],
   "source": [
    "establishments.nunique()"
   ]
  },
  {
   "cell_type": "markdown",
   "metadata": {},
   "source": [
    "## Yelp Database"
   ]
  },
  {
   "cell_type": "code",
   "execution_count": 2,
   "metadata": {
    "pycharm": {
     "is_executing": false
    }
   },
   "outputs": [],
   "source": [
    "import os\n",
    "from yelpapi import YelpAPI\n",
    "\n",
    "YELP_API_KEY = os.environ['YELP_API_KEY']\n",
    "YELP_CLIENT_ID = os.environ['YELP_CLIENT_ID']\n",
    "client = YelpAPI(YELP_API_KEY)"
   ]
  },
  {
   "cell_type": "code",
   "execution_count": 3,
   "metadata": {
    "pycharm": {
     "is_executing": false
    }
   },
   "outputs": [],
   "source": [
    "#### Read already acquired data"
   ]
  },
  {
   "cell_type": "code",
   "execution_count": 3,
   "metadata": {
    "pycharm": {
     "is_executing": false
    }
   },
   "outputs": [],
   "source": [
    "# The yelp_df is a selection of columns of the original df, containing only location information\n",
    "# We then drop all duplicates and reset the index in order to more easily cross reference with the new data\n",
    "# We also include a id col corresponding to the yelp id, and a count of how many results returned\n",
    "yelp_df = pd.read_pickle('yelp/yelp.pkl')\n",
    "\n",
    "# Contains the scrapped data from yelp\n",
    "scrapped = pd.read_pickle('yelp/scrapped.pkl')\n",
    "\n",
    "\n",
    "business = pd.read_pickle('yelp/business.pkl')\n",
    "reviews = pd.read_pickle('yelp/reviews.pkl')"
   ]
  },
  {
   "cell_type": "markdown",
   "metadata": {
    "pycharm": {
     "is_executing": false
    }
   },
   "source": [
    "### Functions to get data from Yelp"
   ]
  },
  {
   "cell_type": "markdown",
   "metadata": {
    "pycharm": {
     "is_executing": false
    }
   },
   "source": [
    "#### Match establishments to Yelp and get ID along with address information"
   ]
  },
  {
   "cell_type": "code",
   "execution_count": 4,
   "metadata": {
    "pycharm": {
     "is_executing": false
    }
   },
   "outputs": [],
   "source": [
    "def business_match_to_df_row(business_):\n",
    "    business = business_.copy()\n",
    "    business.update(business.pop('coordinates'))\n",
    "    business.update(business.pop('location'))\n",
    "    business.pop('phone')\n",
    "    business.pop('display_phone')\n",
    "    business.pop('country')\n",
    "    if str(business['address2']) == '' or not business['address2']:\n",
    "        del business['address2']\n",
    "    if str(business['address3']) == '' or not business['address3']:\n",
    "        business.pop('address3', None)\n",
    "    return business"
   ]
  },
  {
   "cell_type": "code",
   "execution_count": 113,
   "metadata": {
    "collapsed": false,
    "jupyter": {
     "outputs_hidden": false
    },
    "pycharm": {
     "is_executing": false,
     "name": "#%%\n"
    }
   },
   "outputs": [],
   "source": [
    "def match_rows_to_yelp(min_range, max_range,yelp_df,scrapped):\n",
    "    for i in range(min_range,max_range):\n",
    "        # Get the i-th row of the data frame\n",
    "        row = yelp_df.iloc[i]\n",
    "        \n",
    "        # Special case when our search terms contain NaN\n",
    "        if row['matches'] == -2:\n",
    "            continue\n",
    "            \n",
    "        # We haven't requested the data yet and no NaN im the request\n",
    "        if row['matches'] == -1:\n",
    "            # Some rows have only DBA / AKA\n",
    "            name = row[['DBA Name']] if row[['AKA Name']].isnull().values.any() else row[['AKA Name']]\n",
    "            \n",
    "            query = client.business_match_query(name=name,\n",
    "                                                city=row['City'],\n",
    "                                                state=row['State'],\n",
    "                                                country='US',\n",
    "                                                address1=row['Address'])\n",
    "            \n",
    "            # We note how many matches we got and only take the first one\n",
    "            yelp_df.loc[yelp_df.index[i], 'matches'] = len(query['businesses'])\n",
    "            \n",
    "            if len(query['businesses']) == 1:\n",
    "                yelp_df.loc[yelp_df.index[i], 'id'] = query['businesses'][0]['id']\n",
    "                scrapped = scrapped.append(pd.DataFrame([business_match_to_df_row(query['businesses'][0])]))\n",
    "            continue\n",
    "              \n",
    "        # We have more matches and need to examine more closely which one to insert\n",
    "        if row['matches'] == 2:\n",
    "            continue\n",
    "                \n",
    "match_rows_to_yelp(0,5000,yelp_df,scrapped)"
   ]
  },
  {
   "cell_type": "markdown",
   "metadata": {
    "jupyter": {
     "outputs_hidden": false
    },
    "pycharm": {
     "is_executing": false,
     "name": "#%%\n"
    }
   },
   "source": [
    "#### Get more information for each business"
   ]
  },
  {
   "cell_type": "code",
   "execution_count": 108,
   "metadata": {
    "collapsed": false,
    "jupyter": {
     "outputs_hidden": false
    },
    "pycharm": {
     "is_executing": false,
     "name": "#%%\n"
    }
   },
   "outputs": [],
   "source": [
    "def get_business_details(min_range, max_range, scrapped, business):\n",
    "    assert(min_range <= max_range and 0 <= min_range and max_range<len(scrapped.index))\n",
    "    \n",
    "    # Get all other information from business\n",
    "    wanted_business = ['id','is_closed','review_count','categories','rating','price','transactions']\n",
    "    for i in range(min_range,max_range):\n",
    "        row = scrapped.iloc[i]\n",
    "        if not business['id'].isin([row['id']]).any():\n",
    "            query = client.business_query(id=row['id'])\n",
    "            result = dict((k, query[k]) for k in wanted_business if k in query)\n",
    "            business = business.append([result])\n",
    "                \n",
    "get_business_details(0,10,scrapped,business)"
   ]
  },
  {
   "cell_type": "markdown",
   "metadata": {
    "jupyter": {
     "outputs_hidden": false
    },
    "pycharm": {
     "is_executing": false,
     "name": "#%%\n"
    }
   },
   "source": [
    "#### Get reviews"
   ]
  },
  {
   "cell_type": "code",
   "execution_count": 111,
   "metadata": {
    "collapsed": false,
    "jupyter": {
     "outputs_hidden": false
    },
    "pycharm": {
     "is_executing": false,
     "name": "#%%\n"
    }
   },
   "outputs": [],
   "source": [
    "def get_reviews(min_range, max_range, scrapped, reviews):\n",
    "    assert(min_range <= max_range and 0 <= min_range and max_range<len(scrapped.index))\n",
    "    \n",
    "    wanted_reviews = ['id','text','rating','time_created']\n",
    "    for i in range(min_range,max_range):\n",
    "        row = scrapped.iloc[i]\n",
    "        if not reviews['id'].isin([row['id']]).any():\n",
    "            query = client.reviews_query(id=row['id'])\n",
    "            for review in query['reviews']:\n",
    "                result = dict((k, review[k]) for k in wanted_reviews if k in review)\n",
    "                result.update({'business_id':row['id']})\n",
    "                reviews = reviews.append([result])\n",
    "get_reviews(0, 10, scrapped, reviews)"
   ]
  },
  {
   "cell_type": "markdown",
   "metadata": {
    "jupyter": {
     "outputs_hidden": false
    },
    "pycharm": {
     "is_executing": false,
     "name": "#%%\n"
    }
   },
   "source": [
    "## Various lines to combine the three data frames"
   ]
  },
  {
   "cell_type": "code",
   "execution_count": 104,
   "metadata": {
    "collapsed": false,
    "jupyter": {
     "outputs_hidden": false
    },
    "pycharm": {
     "is_executing": false,
     "name": "#%%\n"
    }
   },
   "outputs": [
    {
     "data": {
      "text/html": [
       "<div>\n",
       "<style scoped>\n",
       "    .dataframe tbody tr th:only-of-type {\n",
       "        vertical-align: middle;\n",
       "    }\n",
       "\n",
       "    .dataframe tbody tr th {\n",
       "        vertical-align: top;\n",
       "    }\n",
       "\n",
       "    .dataframe thead th {\n",
       "        text-align: right;\n",
       "    }\n",
       "</style>\n",
       "<table border=\"1\" class=\"dataframe\">\n",
       "  <thead>\n",
       "    <tr style=\"text-align: right;\">\n",
       "      <th></th>\n",
       "      <th>index</th>\n",
       "      <th>DBA Name</th>\n",
       "      <th>AKA Name</th>\n",
       "      <th>Address</th>\n",
       "      <th>City</th>\n",
       "      <th>State</th>\n",
       "      <th>id</th>\n",
       "      <th>matches</th>\n",
       "      <th>address1</th>\n",
       "      <th>address2</th>\n",
       "      <th>...</th>\n",
       "      <th>longitude</th>\n",
       "      <th>name</th>\n",
       "      <th>state</th>\n",
       "      <th>zip_code</th>\n",
       "      <th>is_closed</th>\n",
       "      <th>review_count</th>\n",
       "      <th>categories</th>\n",
       "      <th>rating</th>\n",
       "      <th>price</th>\n",
       "      <th>transactions</th>\n",
       "    </tr>\n",
       "  </thead>\n",
       "  <tbody>\n",
       "    <tr>\n",
       "      <th>0</th>\n",
       "      <td>5</td>\n",
       "      <td>CRAZY BIRD</td>\n",
       "      <td>CRAZY BIRD</td>\n",
       "      <td>1160 W GRAND AVE</td>\n",
       "      <td>CHICAGO</td>\n",
       "      <td>IL</td>\n",
       "      <td>7xiYs3CWFbs9lnqor7iRpQ</td>\n",
       "      <td>1</td>\n",
       "      <td>1160 W Grand Ave</td>\n",
       "      <td>NaN</td>\n",
       "      <td>...</td>\n",
       "      <td>-87.656985</td>\n",
       "      <td>Crazy Bird</td>\n",
       "      <td>IL</td>\n",
       "      <td>60642</td>\n",
       "      <td>False</td>\n",
       "      <td>75</td>\n",
       "      <td>[{'alias': 'chicken_wings', 'title': 'Chicken ...</td>\n",
       "      <td>4.5</td>\n",
       "      <td>$</td>\n",
       "      <td>[pickup, delivery]</td>\n",
       "    </tr>\n",
       "    <tr>\n",
       "      <th>1</th>\n",
       "      <td>6</td>\n",
       "      <td>THE REDHEAD PIANO BAR</td>\n",
       "      <td>THE REDHEAD PIANO BAR</td>\n",
       "      <td>16-18 W ONTARIO ST</td>\n",
       "      <td>CHICAGO</td>\n",
       "      <td>IL</td>\n",
       "      <td>KPblL_UbpgEwUbZEUscTvA</td>\n",
       "      <td>1</td>\n",
       "      <td>16 W Ontario St</td>\n",
       "      <td>NaN</td>\n",
       "      <td>...</td>\n",
       "      <td>-87.628740</td>\n",
       "      <td>Redhead Piano Bar</td>\n",
       "      <td>IL</td>\n",
       "      <td>60654</td>\n",
       "      <td>False</td>\n",
       "      <td>529</td>\n",
       "      <td>[{'alias': 'musicvenues', 'title': 'Music Venu...</td>\n",
       "      <td>3.0</td>\n",
       "      <td>$$</td>\n",
       "      <td>[]</td>\n",
       "    </tr>\n",
       "    <tr>\n",
       "      <th>2</th>\n",
       "      <td>7</td>\n",
       "      <td>HAISOUS</td>\n",
       "      <td>CA PHE DA</td>\n",
       "      <td>1800-1802 S CARPENTER ST</td>\n",
       "      <td>CHICAGO</td>\n",
       "      <td>IL</td>\n",
       "      <td>GkW4K_g-wtNCHuF0w8LMYA</td>\n",
       "      <td>1</td>\n",
       "      <td>1800 1/2 S Carpenter St</td>\n",
       "      <td>NaN</td>\n",
       "      <td>...</td>\n",
       "      <td>-87.653500</td>\n",
       "      <td>Ca Phe Da Vietnamese Cafe</td>\n",
       "      <td>IL</td>\n",
       "      <td>60608</td>\n",
       "      <td>False</td>\n",
       "      <td>144</td>\n",
       "      <td>[{'alias': 'vietnamese', 'title': 'Vietnamese'...</td>\n",
       "      <td>4.0</td>\n",
       "      <td>$$</td>\n",
       "      <td>[pickup, delivery]</td>\n",
       "    </tr>\n",
       "    <tr>\n",
       "      <th>3</th>\n",
       "      <td>8</td>\n",
       "      <td>HARMONY RESTAURANT</td>\n",
       "      <td>HARMONY RESTAURANT</td>\n",
       "      <td>6525 W ARCHER AVE</td>\n",
       "      <td>CHICAGO</td>\n",
       "      <td>IL</td>\n",
       "      <td>yz-3hfOJYKRnPRBOFPpHqQ</td>\n",
       "      <td>1</td>\n",
       "      <td>6525 W Archer Ave</td>\n",
       "      <td>NaN</td>\n",
       "      <td>...</td>\n",
       "      <td>-87.785297</td>\n",
       "      <td>Harmony Restaurant</td>\n",
       "      <td>IL</td>\n",
       "      <td>60638</td>\n",
       "      <td>False</td>\n",
       "      <td>129</td>\n",
       "      <td>[{'alias': 'chinese', 'title': 'Chinese'}, {'a...</td>\n",
       "      <td>3.0</td>\n",
       "      <td>$$</td>\n",
       "      <td>[pickup, delivery]</td>\n",
       "    </tr>\n",
       "    <tr>\n",
       "      <th>4</th>\n",
       "      <td>10</td>\n",
       "      <td>HIMALAYAN SHERPA KITCHEN</td>\n",
       "      <td>HIMALAYAN SHERPA KITCHEN</td>\n",
       "      <td>2701 W LAWRENCE AVE</td>\n",
       "      <td>CHICAGO</td>\n",
       "      <td>IL</td>\n",
       "      <td>2D4YeUTn2GGtrcLoHSpvJQ</td>\n",
       "      <td>1</td>\n",
       "      <td>2701 W Lawrence Ave</td>\n",
       "      <td>NaN</td>\n",
       "      <td>...</td>\n",
       "      <td>-87.696393</td>\n",
       "      <td>Himalayan Sherpa Kitchen</td>\n",
       "      <td>IL</td>\n",
       "      <td>60625</td>\n",
       "      <td>False</td>\n",
       "      <td>23</td>\n",
       "      <td>[{'alias': 'indpak', 'title': 'Indian'}, {'ali...</td>\n",
       "      <td>4.5</td>\n",
       "      <td>NaN</td>\n",
       "      <td>[delivery, pickup]</td>\n",
       "    </tr>\n",
       "    <tr>\n",
       "      <th>5</th>\n",
       "      <td>11</td>\n",
       "      <td>7 ELEVEN #35750H</td>\n",
       "      <td>7 ELEVEN</td>\n",
       "      <td>1658 N MILWAUKEE AVE</td>\n",
       "      <td>CHICAGO</td>\n",
       "      <td>IL</td>\n",
       "      <td>Q-0hZSru1U4xSXoM6MdjtA</td>\n",
       "      <td>1</td>\n",
       "      <td>1658 N Milwaukee</td>\n",
       "      <td>NaN</td>\n",
       "      <td>...</td>\n",
       "      <td>-87.679586</td>\n",
       "      <td>7-Eleven</td>\n",
       "      <td>IL</td>\n",
       "      <td>60647</td>\n",
       "      <td>False</td>\n",
       "      <td>5</td>\n",
       "      <td>[{'alias': 'convenience', 'title': 'Convenienc...</td>\n",
       "      <td>3.0</td>\n",
       "      <td>$</td>\n",
       "      <td>[]</td>\n",
       "    </tr>\n",
       "    <tr>\n",
       "      <th>6</th>\n",
       "      <td>11</td>\n",
       "      <td>7 ELEVEN #35750H</td>\n",
       "      <td>7 ELEVEN</td>\n",
       "      <td>1658 N MILWAUKEE AVE</td>\n",
       "      <td>CHICAGO</td>\n",
       "      <td>IL</td>\n",
       "      <td>Q-0hZSru1U4xSXoM6MdjtA</td>\n",
       "      <td>1</td>\n",
       "      <td>1658 N Milwaukee</td>\n",
       "      <td>NaN</td>\n",
       "      <td>...</td>\n",
       "      <td>-87.679586</td>\n",
       "      <td>7-Eleven</td>\n",
       "      <td>IL</td>\n",
       "      <td>60647</td>\n",
       "      <td>False</td>\n",
       "      <td>5</td>\n",
       "      <td>[{'alias': 'convenience', 'title': 'Convenienc...</td>\n",
       "      <td>3.0</td>\n",
       "      <td>$</td>\n",
       "      <td>[]</td>\n",
       "    </tr>\n",
       "    <tr>\n",
       "      <th>7</th>\n",
       "      <td>13</td>\n",
       "      <td>7-ELEVEN #35750A</td>\n",
       "      <td>7-ELEVEN</td>\n",
       "      <td>1658 N MILWAUKEE AVE</td>\n",
       "      <td>CHICAGO</td>\n",
       "      <td>IL</td>\n",
       "      <td>Q-0hZSru1U4xSXoM6MdjtA</td>\n",
       "      <td>1</td>\n",
       "      <td>1658 N Milwaukee</td>\n",
       "      <td>NaN</td>\n",
       "      <td>...</td>\n",
       "      <td>-87.679586</td>\n",
       "      <td>7-Eleven</td>\n",
       "      <td>IL</td>\n",
       "      <td>60647</td>\n",
       "      <td>False</td>\n",
       "      <td>5</td>\n",
       "      <td>[{'alias': 'convenience', 'title': 'Convenienc...</td>\n",
       "      <td>3.0</td>\n",
       "      <td>$</td>\n",
       "      <td>[]</td>\n",
       "    </tr>\n",
       "    <tr>\n",
       "      <th>8</th>\n",
       "      <td>13</td>\n",
       "      <td>7-ELEVEN #35750A</td>\n",
       "      <td>7-ELEVEN</td>\n",
       "      <td>1658 N MILWAUKEE AVE</td>\n",
       "      <td>CHICAGO</td>\n",
       "      <td>IL</td>\n",
       "      <td>Q-0hZSru1U4xSXoM6MdjtA</td>\n",
       "      <td>1</td>\n",
       "      <td>1658 N Milwaukee</td>\n",
       "      <td>NaN</td>\n",
       "      <td>...</td>\n",
       "      <td>-87.679586</td>\n",
       "      <td>7-Eleven</td>\n",
       "      <td>IL</td>\n",
       "      <td>60647</td>\n",
       "      <td>False</td>\n",
       "      <td>5</td>\n",
       "      <td>[{'alias': 'convenience', 'title': 'Convenienc...</td>\n",
       "      <td>3.0</td>\n",
       "      <td>$</td>\n",
       "      <td>[]</td>\n",
       "    </tr>\n",
       "    <tr>\n",
       "      <th>9</th>\n",
       "      <td>12</td>\n",
       "      <td>WALGREENS #10771</td>\n",
       "      <td>WALGREENS #10771</td>\n",
       "      <td>6460 W FULLERTON AVE</td>\n",
       "      <td>CHICAGO</td>\n",
       "      <td>IL</td>\n",
       "      <td>Qk7K6Y1S6rmduUNch70bsA</td>\n",
       "      <td>1</td>\n",
       "      <td>6460 W Fullerton Ave</td>\n",
       "      <td>NaN</td>\n",
       "      <td>...</td>\n",
       "      <td>-87.788128</td>\n",
       "      <td>Walgreens</td>\n",
       "      <td>IL</td>\n",
       "      <td>60707</td>\n",
       "      <td>True</td>\n",
       "      <td>4</td>\n",
       "      <td>[{'alias': 'drugstores', 'title': 'Drugstores'...</td>\n",
       "      <td>2.5</td>\n",
       "      <td>$$</td>\n",
       "      <td>[]</td>\n",
       "    </tr>\n",
       "    <tr>\n",
       "      <th>10</th>\n",
       "      <td>16</td>\n",
       "      <td>MAXWELL STREET EXPRESS</td>\n",
       "      <td>MAXWELL STREET EXPRESS</td>\n",
       "      <td>1058 W 87TH ST</td>\n",
       "      <td>CHICAGO</td>\n",
       "      <td>IL</td>\n",
       "      <td>dv8o6WDhQB9SkQiS0kytrQ</td>\n",
       "      <td>1</td>\n",
       "      <td>1058 W 87th St</td>\n",
       "      <td>NaN</td>\n",
       "      <td>...</td>\n",
       "      <td>-87.650700</td>\n",
       "      <td>Maxwell Express</td>\n",
       "      <td>IL</td>\n",
       "      <td>60620</td>\n",
       "      <td>False</td>\n",
       "      <td>2</td>\n",
       "      <td>[{'alias': 'tradamerican', 'title': 'American ...</td>\n",
       "      <td>3.0</td>\n",
       "      <td>$</td>\n",
       "      <td>[]</td>\n",
       "    </tr>\n",
       "    <tr>\n",
       "      <th>11</th>\n",
       "      <td>18</td>\n",
       "      <td>PJ PIZZA COMPANY 1 DBA PAPA JOHNS</td>\n",
       "      <td>PJ PIZZA COMPANY 1 DBA PAPA JOHNS</td>\n",
       "      <td>1755 W 87TH ST</td>\n",
       "      <td>CHICAGO</td>\n",
       "      <td>IL</td>\n",
       "      <td>TZv2SNMJ7jnF1dcre3bLPw</td>\n",
       "      <td>1</td>\n",
       "      <td>1755 W 87th St</td>\n",
       "      <td>NaN</td>\n",
       "      <td>...</td>\n",
       "      <td>-87.667650</td>\n",
       "      <td>Papa John's Pizza</td>\n",
       "      <td>IL</td>\n",
       "      <td>60620</td>\n",
       "      <td>False</td>\n",
       "      <td>4</td>\n",
       "      <td>[{'alias': 'pizza', 'title': 'Pizza'}]</td>\n",
       "      <td>1.5</td>\n",
       "      <td>$</td>\n",
       "      <td>[pickup, delivery]</td>\n",
       "    </tr>\n",
       "  </tbody>\n",
       "</table>\n",
       "<p>12 rows × 25 columns</p>\n",
       "</div>"
      ],
      "text/plain": [
       "    index                           DBA Name  \\\n",
       "0       5                         CRAZY BIRD   \n",
       "1       6              THE REDHEAD PIANO BAR   \n",
       "2       7                            HAISOUS   \n",
       "3       8                 HARMONY RESTAURANT   \n",
       "4      10           HIMALAYAN SHERPA KITCHEN   \n",
       "5      11                   7 ELEVEN #35750H   \n",
       "6      11                   7 ELEVEN #35750H   \n",
       "7      13                   7-ELEVEN #35750A   \n",
       "8      13                   7-ELEVEN #35750A   \n",
       "9      12                   WALGREENS #10771   \n",
       "10     16             MAXWELL STREET EXPRESS   \n",
       "11     18  PJ PIZZA COMPANY 1 DBA PAPA JOHNS   \n",
       "\n",
       "                             AKA Name                    Address     City  \\\n",
       "0                          CRAZY BIRD          1160 W GRAND AVE   CHICAGO   \n",
       "1               THE REDHEAD PIANO BAR        16-18 W ONTARIO ST   CHICAGO   \n",
       "2                           CA PHE DA  1800-1802 S CARPENTER ST   CHICAGO   \n",
       "3                  HARMONY RESTAURANT         6525 W ARCHER AVE   CHICAGO   \n",
       "4            HIMALAYAN SHERPA KITCHEN       2701 W LAWRENCE AVE   CHICAGO   \n",
       "5                            7 ELEVEN      1658 N MILWAUKEE AVE   CHICAGO   \n",
       "6                            7 ELEVEN      1658 N MILWAUKEE AVE   CHICAGO   \n",
       "7                            7-ELEVEN      1658 N MILWAUKEE AVE   CHICAGO   \n",
       "8                            7-ELEVEN      1658 N MILWAUKEE AVE   CHICAGO   \n",
       "9                    WALGREENS #10771      6460 W FULLERTON AVE   CHICAGO   \n",
       "10             MAXWELL STREET EXPRESS            1058 W 87TH ST   CHICAGO   \n",
       "11  PJ PIZZA COMPANY 1 DBA PAPA JOHNS            1755 W 87TH ST   CHICAGO   \n",
       "\n",
       "   State                      id  matches                 address1 address2  \\\n",
       "0     IL  7xiYs3CWFbs9lnqor7iRpQ        1         1160 W Grand Ave      NaN   \n",
       "1     IL  KPblL_UbpgEwUbZEUscTvA        1          16 W Ontario St      NaN   \n",
       "2     IL  GkW4K_g-wtNCHuF0w8LMYA        1  1800 1/2 S Carpenter St      NaN   \n",
       "3     IL  yz-3hfOJYKRnPRBOFPpHqQ        1        6525 W Archer Ave      NaN   \n",
       "4     IL  2D4YeUTn2GGtrcLoHSpvJQ        1      2701 W Lawrence Ave      NaN   \n",
       "5     IL  Q-0hZSru1U4xSXoM6MdjtA        1         1658 N Milwaukee      NaN   \n",
       "6     IL  Q-0hZSru1U4xSXoM6MdjtA        1         1658 N Milwaukee      NaN   \n",
       "7     IL  Q-0hZSru1U4xSXoM6MdjtA        1         1658 N Milwaukee      NaN   \n",
       "8     IL  Q-0hZSru1U4xSXoM6MdjtA        1         1658 N Milwaukee      NaN   \n",
       "9     IL  Qk7K6Y1S6rmduUNch70bsA        1     6460 W Fullerton Ave      NaN   \n",
       "10    IL  dv8o6WDhQB9SkQiS0kytrQ        1           1058 W 87th St      NaN   \n",
       "11    IL  TZv2SNMJ7jnF1dcre3bLPw        1           1755 W 87th St      NaN   \n",
       "\n",
       "    ...  longitude                       name state zip_code  is_closed  \\\n",
       "0   ... -87.656985                 Crazy Bird    IL    60642      False   \n",
       "1   ... -87.628740          Redhead Piano Bar    IL    60654      False   \n",
       "2   ... -87.653500  Ca Phe Da Vietnamese Cafe    IL    60608      False   \n",
       "3   ... -87.785297         Harmony Restaurant    IL    60638      False   \n",
       "4   ... -87.696393   Himalayan Sherpa Kitchen    IL    60625      False   \n",
       "5   ... -87.679586                   7-Eleven    IL    60647      False   \n",
       "6   ... -87.679586                   7-Eleven    IL    60647      False   \n",
       "7   ... -87.679586                   7-Eleven    IL    60647      False   \n",
       "8   ... -87.679586                   7-Eleven    IL    60647      False   \n",
       "9   ... -87.788128                  Walgreens    IL    60707       True   \n",
       "10  ... -87.650700            Maxwell Express    IL    60620      False   \n",
       "11  ... -87.667650          Papa John's Pizza    IL    60620      False   \n",
       "\n",
       "    review_count                                         categories rating  \\\n",
       "0             75  [{'alias': 'chicken_wings', 'title': 'Chicken ...    4.5   \n",
       "1            529  [{'alias': 'musicvenues', 'title': 'Music Venu...    3.0   \n",
       "2            144  [{'alias': 'vietnamese', 'title': 'Vietnamese'...    4.0   \n",
       "3            129  [{'alias': 'chinese', 'title': 'Chinese'}, {'a...    3.0   \n",
       "4             23  [{'alias': 'indpak', 'title': 'Indian'}, {'ali...    4.5   \n",
       "5              5  [{'alias': 'convenience', 'title': 'Convenienc...    3.0   \n",
       "6              5  [{'alias': 'convenience', 'title': 'Convenienc...    3.0   \n",
       "7              5  [{'alias': 'convenience', 'title': 'Convenienc...    3.0   \n",
       "8              5  [{'alias': 'convenience', 'title': 'Convenienc...    3.0   \n",
       "9              4  [{'alias': 'drugstores', 'title': 'Drugstores'...    2.5   \n",
       "10             2  [{'alias': 'tradamerican', 'title': 'American ...    3.0   \n",
       "11             4             [{'alias': 'pizza', 'title': 'Pizza'}]    1.5   \n",
       "\n",
       "   price        transactions  \n",
       "0      $  [pickup, delivery]  \n",
       "1     $$                  []  \n",
       "2     $$  [pickup, delivery]  \n",
       "3     $$  [pickup, delivery]  \n",
       "4    NaN  [delivery, pickup]  \n",
       "5      $                  []  \n",
       "6      $                  []  \n",
       "7      $                  []  \n",
       "8      $                  []  \n",
       "9     $$                  []  \n",
       "10     $                  []  \n",
       "11     $  [pickup, delivery]  \n",
       "\n",
       "[12 rows x 25 columns]"
      ]
     },
     "execution_count": 104,
     "metadata": {},
     "output_type": "execute_result"
    }
   ],
   "source": [
    "# Compare the original data with scraped and combine with more business details\n",
    "yelp_df[yelp_df['id'].notnull()].merge(scrapped,on='id').merge(business,on='id')"
   ]
  },
  {
   "cell_type": "code",
   "execution_count": 112,
   "metadata": {
    "collapsed": false,
    "jupyter": {
     "outputs_hidden": false
    },
    "pycharm": {
     "is_executing": false,
     "name": "#%%\n"
    }
   },
   "outputs": [],
   "source": [
    "df = yelp_df[yelp_df['id'].notnull()].merge(scrapped,on='id')\n"
   ]
  },
  {
   "cell_type": "markdown",
   "metadata": {
    "jupyter": {
     "outputs_hidden": false
    },
    "pycharm": {
     "is_executing": false,
     "name": "#%%\n"
    }
   },
   "source": [
    "## Save the all data"
   ]
  },
  {
   "cell_type": "code",
   "execution_count": 112,
   "metadata": {
    "collapsed": false,
    "jupyter": {
     "outputs_hidden": false
    },
    "pycharm": {
     "is_executing": false,
     "name": "#%%\n"
    }
   },
   "outputs": [],
   "source": [
    "yelp_df.to_pickle('yelp/yelp.pkl')\n",
    "scrapped.to_pickle('yelp/scrapped.pkl')\n",
    "business.to_pickle('yelp/business.pkl')\n",
    "reviews.to_pickle('yelp/reviews.pkl')"
   ]
  }
 ],
 "metadata": {
  "kernelspec": {
   "display_name": "Python [conda env:ada] *",
   "language": "python",
   "name": "conda-env-ada-py"
  },
  "language_info": {
   "codemirror_mode": {
    "name": "ipython",
    "version": 3
   },
   "file_extension": ".py",
   "mimetype": "text/x-python",
   "name": "python",
   "nbconvert_exporter": "python",
   "pygments_lexer": "ipython3",
   "version": "3.7.5"
  },
  "pycharm": {
   "stem_cell": {
    "cell_type": "raw",
    "metadata": {
     "collapsed": false
    },
    "source": []
   }
  }
 },
 "nbformat": 4,
 "nbformat_minor": 4
}
