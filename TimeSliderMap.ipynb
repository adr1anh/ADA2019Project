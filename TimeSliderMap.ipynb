{
 "cells": [
  {
   "cell_type": "code",
   "execution_count": 1,
   "metadata": {},
   "outputs": [],
   "source": [
    "import os\n",
    "import folium\n",
    "import numpy as np\n",
    "import pandas as pd\n",
    "import json\n",
    "import time\n",
    "from decimal import Decimal\n",
    "from folium import plugins\n",
    "import geopy\n",
    "from geopy.geocoders import Nominatim"
   ]
  },
  {
   "cell_type": "code",
   "execution_count": 2,
   "metadata": {},
   "outputs": [],
   "source": [
    "import geopandas as gpd\n",
    "\n",
    "\n",
    "assert 'naturalearth_lowres' in gpd.datasets.available\n",
    "datapath = gpd.datasets.get_path('naturalearth_lowres')\n",
    "gdf = gpd.read_file(datapath)"
   ]
  },
  {
   "cell_type": "code",
   "execution_count": 3,
   "metadata": {},
   "outputs": [],
   "source": [
    "new_data = pd.read_csv(\"Inch.csv\")\n",
    "new_data = new_data.drop('Unnamed: 0',axis=1)"
   ]
  },
  {
   "cell_type": "code",
   "execution_count": 4,
   "metadata": {},
   "outputs": [],
   "source": [
    "d = {}\n",
    "for i in range(8):\n",
    "    d[i] = new_data[new_data[\"year\"]==2010+i]\n",
    "    d[i]=d[i].reset_index().drop(\"index\",axis=1)\n",
    "    "
   ]
  },
  {
   "cell_type": "code",
   "execution_count": 5,
   "metadata": {},
   "outputs": [
    {
     "data": {
      "text/plain": [
       "5709037"
      ]
     },
     "execution_count": 5,
     "metadata": {},
     "output_type": "execute_result"
    }
   ],
   "source": [
    "# load GeoJSON\n",
    "with open('Boundaries - ZIP Codes.geojson', 'r') as jsonFile:\n",
    "    data_ = json.load(jsonFile)\n",
    "tmp = data_\n",
    "\n",
    "# remove ZIP codes not in our dataset\n",
    "geozips = []\n",
    "A=[]\n",
    "for i in range(len(new_data[\"Zip\"].unique())):\n",
    "    A.append(int((tmp['features'][i]['properties']['zip'])))\n",
    "    if A[i] in (new_data[\"Zip\"].unique()):\n",
    "        tmp['features'][i]['properties']['zip'] = int((tmp['features'][i]['properties']['zip']))\n",
    "        geozips.append(tmp['features'][i])\n",
    "        \n",
    "# creating new JSON object\n",
    "new_json = dict.fromkeys(['type','features'])\n",
    "new_json['type'] = 'FeatureCollection'\n",
    "new_json['features'] = geozips\n",
    "\n",
    "# save JSON object as updated-file\n",
    "open(\"time_updated-file.json\", \"w\").write(\n",
    "    json.dumps(new_json, sort_keys=True, indent=4, separators=(',', ': '))\n",
    ")"
   ]
  },
  {
   "cell_type": "code",
   "execution_count": 6,
   "metadata": {},
   "outputs": [
    {
     "data": {
      "text/plain": [
       "Index(['1264896000', '1296432000', '1327968000', '1359590400', '1391126400',\n",
       "       '1422662400', '1454198400', '1485820800'],\n",
       "      dtype='object')"
      ]
     },
     "execution_count": 6,
     "metadata": {},
     "output_type": "execute_result"
    }
   ],
   "source": [
    "n_periods, n_sample = 8, 5\n",
    "datetime_index = pd.date_range('2010-01-01',\"2018-01-01\", freq='A-JAN')\n",
    "dt_index_epochs = datetime_index.astype(int) // 10**9\n",
    "dt_index = dt_index_epochs.astype('U10')\n",
    "\n",
    "dt_index"
   ]
  },
  {
   "cell_type": "code",
   "execution_count": 14,
   "metadata": {},
   "outputs": [
    {
     "data": {
      "text/html": [
       "<div>\n",
       "<style scoped>\n",
       "    .dataframe tbody tr th:only-of-type {\n",
       "        vertical-align: middle;\n",
       "    }\n",
       "\n",
       "    .dataframe tbody tr th {\n",
       "        vertical-align: top;\n",
       "    }\n",
       "\n",
       "    .dataframe thead th {\n",
       "        text-align: right;\n",
       "    }\n",
       "</style>\n",
       "<table border=\"1\" class=\"dataframe\">\n",
       "  <thead>\n",
       "    <tr style=\"text-align: right;\">\n",
       "      <th></th>\n",
       "      <th>Zip</th>\n",
       "      <th>year</th>\n",
       "      <th>Violation risk</th>\n",
       "      <th>Count</th>\n",
       "    </tr>\n",
       "  </thead>\n",
       "  <tbody>\n",
       "    <tr>\n",
       "      <td>0</td>\n",
       "      <td>60601</td>\n",
       "      <td>2010</td>\n",
       "      <td>0.985348</td>\n",
       "      <td>273</td>\n",
       "    </tr>\n",
       "    <tr>\n",
       "      <td>1</td>\n",
       "      <td>60601</td>\n",
       "      <td>2011</td>\n",
       "      <td>1.061093</td>\n",
       "      <td>311</td>\n",
       "    </tr>\n",
       "    <tr>\n",
       "      <td>2</td>\n",
       "      <td>60601</td>\n",
       "      <td>2012</td>\n",
       "      <td>1.087649</td>\n",
       "      <td>251</td>\n",
       "    </tr>\n",
       "    <tr>\n",
       "      <td>3</td>\n",
       "      <td>60601</td>\n",
       "      <td>2013</td>\n",
       "      <td>1.291536</td>\n",
       "      <td>319</td>\n",
       "    </tr>\n",
       "    <tr>\n",
       "      <td>4</td>\n",
       "      <td>60601</td>\n",
       "      <td>2014</td>\n",
       "      <td>1.044910</td>\n",
       "      <td>334</td>\n",
       "    </tr>\n",
       "    <tr>\n",
       "      <td>...</td>\n",
       "      <td>...</td>\n",
       "      <td>...</td>\n",
       "      <td>...</td>\n",
       "      <td>...</td>\n",
       "    </tr>\n",
       "    <tr>\n",
       "      <td>468</td>\n",
       "      <td>60827</td>\n",
       "      <td>2014</td>\n",
       "      <td>1.588235</td>\n",
       "      <td>17</td>\n",
       "    </tr>\n",
       "    <tr>\n",
       "      <td>469</td>\n",
       "      <td>60827</td>\n",
       "      <td>2015</td>\n",
       "      <td>0.800000</td>\n",
       "      <td>10</td>\n",
       "    </tr>\n",
       "    <tr>\n",
       "      <td>470</td>\n",
       "      <td>60827</td>\n",
       "      <td>2016</td>\n",
       "      <td>1.266667</td>\n",
       "      <td>15</td>\n",
       "    </tr>\n",
       "    <tr>\n",
       "      <td>471</td>\n",
       "      <td>60827</td>\n",
       "      <td>2017</td>\n",
       "      <td>1.111111</td>\n",
       "      <td>9</td>\n",
       "    </tr>\n",
       "    <tr>\n",
       "      <td>472</td>\n",
       "      <td>60640</td>\n",
       "      <td>2011</td>\n",
       "      <td>0.428571</td>\n",
       "      <td>7</td>\n",
       "    </tr>\n",
       "  </tbody>\n",
       "</table>\n",
       "<p>473 rows × 4 columns</p>\n",
       "</div>"
      ],
      "text/plain": [
       "       Zip  year  Violation risk  Count\n",
       "0    60601  2010        0.985348    273\n",
       "1    60601  2011        1.061093    311\n",
       "2    60601  2012        1.087649    251\n",
       "3    60601  2013        1.291536    319\n",
       "4    60601  2014        1.044910    334\n",
       "..     ...   ...             ...    ...\n",
       "468  60827  2014        1.588235     17\n",
       "469  60827  2015        0.800000     10\n",
       "470  60827  2016        1.266667     15\n",
       "471  60827  2017        1.111111      9\n",
       "472  60640  2011        0.428571      7\n",
       "\n",
       "[473 rows x 4 columns]"
      ]
     },
     "execution_count": 14,
     "metadata": {},
     "output_type": "execute_result"
    }
   ],
   "source": [
    "new_data"
   ]
  },
  {
   "cell_type": "code",
   "execution_count": 15,
   "metadata": {},
   "outputs": [],
   "source": [
    "styledata = {}\n",
    "\n",
    "for ZIP in new_data.Zip:\n",
    "    df = pd.DataFrame(\n",
    "        {'color': np.random.normal(size=n_periods),\n",
    "         'opacity': np.random.normal(size=n_periods)},\n",
    "        index=dt_index\n",
    "    )\n",
    "    df = df.cumsum()\n",
    "    df.sample(n_sample, replace=False).sort_index()\n",
    "    styledata[ZIP] = df"
   ]
  },
  {
   "cell_type": "code",
   "execution_count": 16,
   "metadata": {},
   "outputs": [],
   "source": [
    "max_color, min_color, max_opacity, min_opacity = 0, 0, 0, 0\n",
    "\n",
    "for country, data in styledata.items():\n",
    "    max_color = max(max_color, data['color'].max())\n",
    "    min_color = min(max_color, data['color'].min())\n",
    "    max_opacity = max(max_color, data['opacity'].max())\n",
    "    max_opacity = min(max_color, data['opacity'].max())"
   ]
  },
  {
   "cell_type": "code",
   "execution_count": 17,
   "metadata": {},
   "outputs": [],
   "source": [
    "from branca.colormap import linear\n",
    "\n",
    "cmap = linear.PuRd_09.scale(min_color, max_color)\n",
    "\n",
    "\n",
    "def norm(x):\n",
    "    return (x - x.min()) / (x.max() - x.min())\n",
    "\n",
    "\n",
    "for country, data in styledata.items():\n",
    "    data['color'] = data['color'].apply(cmap)\n",
    "    data['opacity'] = norm(data['opacity'])"
   ]
  },
  {
   "cell_type": "code",
   "execution_count": 18,
   "metadata": {},
   "outputs": [],
   "source": [
    "styledict = {\n",
    "    str(country): data.to_dict(orient='index') for\n",
    "    country, data in styledata.items()\n",
    "}"
   ]
  },
  {
   "cell_type": "code",
   "execution_count": 19,
   "metadata": {},
   "outputs": [],
   "source": [
    "styledict = {int(k):v for k,v in styledict.items()}"
   ]
  },
  {
   "cell_type": "code",
   "execution_count": 20,
   "metadata": {},
   "outputs": [
    {
     "data": {
      "text/plain": [
       "{'1264896000': {'color': '#cc8dc4', 'opacity': 0.8426691980302782},\n",
       " '1296432000': {'color': '#d47cbc', 'opacity': 0.8460111186166387},\n",
       " '1327968000': {'color': '#da70b6', 'opacity': 0.5508307000954493},\n",
       " '1359590400': {'color': '#e72f8e', 'opacity': 0.8330841986008217},\n",
       " '1391126400': {'color': '#e24fa2', 'opacity': 1.0},\n",
       " '1422662400': {'color': '#e6308f', 'opacity': 0.7166278590464846},\n",
       " '1454198400': {'color': '#a70548', 'opacity': 0.33608645452159125},\n",
       " '1485820800': {'color': '#d61865', 'opacity': 0.0}}"
      ]
     },
     "execution_count": 20,
     "metadata": {},
     "output_type": "execute_result"
    }
   ],
   "source": [
    "styledict[60601]"
   ]
  },
  {
   "cell_type": "code",
   "execution_count": 21,
   "metadata": {},
   "outputs": [],
   "source": [
    "def create_map(table, zips, mapped_feature, add_text = ''):\n",
    "    # reading of the updated GeoJSON file\n",
    "    geo = r'time_updated-file.json'\n",
    "    # initiating a Folium map with Chicago's longitude and latitude\n",
    "    coord = [41.88270035458986, -87.63663755997726]\n",
    "    m = folium.Map(location = coord, tiles='cartodbpositron',zoom_start = 10)\n",
    "    # creating a choropleth map\n",
    "    g = TimeSliderChoropleth(geo,styledict=styledict,).add_to(m)\n",
    "    m.choropleth(\n",
    "        geo_data = geo,\n",
    "        fill_opacity = 0.7,\n",
    "        line_opacity = 0.2,\n",
    "        data = table,\n",
    "        # refers to which key within the GeoJSON to map the ZIP code to\n",
    "        key_on = 'feature.properties.zip',\n",
    "        # first element contains location information, second element contains feature of interest\n",
    "        columns = [zips, mapped_feature],\n",
    "        fill_color = 'BuPu',\n",
    "        legend_name = (' ').join(mapped_feature.split('_')).title() + ' Number of facilites ' + add_text + ' Across Chigaco'\n",
    "    )\n",
    "    folium.LayerControl().add_to(m)\n",
    "    # save map with filename based on the feature of interest\n",
    "    m.save(outfile = mapped_feature + '_map.html')\n",
    "    return(m)"
   ]
  },
  {
   "cell_type": "code",
   "execution_count": 22,
   "metadata": {},
   "outputs": [
    {
     "ename": "NameError",
     "evalue": "name 'TimeSliderChoropleth' is not defined",
     "output_type": "error",
     "traceback": [
      "\u001b[1;31m---------------------------------------------------------------------------\u001b[0m",
      "\u001b[1;31mNameError\u001b[0m                                 Traceback (most recent call last)",
      "\u001b[1;32m<ipython-input-22-b21b8ef53727>\u001b[0m in \u001b[0;36m<module>\u001b[1;34m\u001b[0m\n\u001b[1;32m----> 1\u001b[1;33m \u001b[0mcreate_map\u001b[0m\u001b[1;33m(\u001b[0m\u001b[0mnew_data\u001b[0m\u001b[1;33m,\u001b[0m\u001b[1;34m\"Zip\"\u001b[0m\u001b[1;33m,\u001b[0m\u001b[1;34m\"Violation risk\"\u001b[0m\u001b[1;33m)\u001b[0m\u001b[1;33m\u001b[0m\u001b[1;33m\u001b[0m\u001b[0m\n\u001b[0m",
      "\u001b[1;32m<ipython-input-21-b044b5e398bc>\u001b[0m in \u001b[0;36mcreate_map\u001b[1;34m(table, zips, mapped_feature, add_text)\u001b[0m\n\u001b[0;32m      6\u001b[0m     \u001b[0mm\u001b[0m \u001b[1;33m=\u001b[0m \u001b[0mfolium\u001b[0m\u001b[1;33m.\u001b[0m\u001b[0mMap\u001b[0m\u001b[1;33m(\u001b[0m\u001b[0mlocation\u001b[0m \u001b[1;33m=\u001b[0m \u001b[0mcoord\u001b[0m\u001b[1;33m,\u001b[0m \u001b[0mtiles\u001b[0m\u001b[1;33m=\u001b[0m\u001b[1;34m'cartodbpositron'\u001b[0m\u001b[1;33m,\u001b[0m\u001b[0mzoom_start\u001b[0m \u001b[1;33m=\u001b[0m \u001b[1;36m10\u001b[0m\u001b[1;33m)\u001b[0m\u001b[1;33m\u001b[0m\u001b[1;33m\u001b[0m\u001b[0m\n\u001b[0;32m      7\u001b[0m     \u001b[1;31m# creating a choropleth map\u001b[0m\u001b[1;33m\u001b[0m\u001b[1;33m\u001b[0m\u001b[1;33m\u001b[0m\u001b[0m\n\u001b[1;32m----> 8\u001b[1;33m     \u001b[0mg\u001b[0m \u001b[1;33m=\u001b[0m \u001b[0mTimeSliderChoropleth\u001b[0m\u001b[1;33m(\u001b[0m\u001b[0mgeo\u001b[0m\u001b[1;33m,\u001b[0m\u001b[0mstyledict\u001b[0m\u001b[1;33m=\u001b[0m\u001b[0mstyledict\u001b[0m\u001b[1;33m,\u001b[0m\u001b[1;33m)\u001b[0m\u001b[1;33m.\u001b[0m\u001b[0madd_to\u001b[0m\u001b[1;33m(\u001b[0m\u001b[0mm\u001b[0m\u001b[1;33m)\u001b[0m\u001b[1;33m\u001b[0m\u001b[1;33m\u001b[0m\u001b[0m\n\u001b[0m\u001b[0;32m      9\u001b[0m     m.choropleth(\n\u001b[0;32m     10\u001b[0m         \u001b[0mgeo_data\u001b[0m \u001b[1;33m=\u001b[0m \u001b[0mgeo\u001b[0m\u001b[1;33m,\u001b[0m\u001b[1;33m\u001b[0m\u001b[1;33m\u001b[0m\u001b[0m\n",
      "\u001b[1;31mNameError\u001b[0m: name 'TimeSliderChoropleth' is not defined"
     ]
    }
   ],
   "source": [
    "create_map(new_data,\"Zip\",\"Violation risk\")"
   ]
  },
  {
   "cell_type": "code",
   "execution_count": 35,
   "metadata": {},
   "outputs": [],
   "source": [
    "\n",
    "# reading of the updated GeoJSON file\n",
    "geo = r'time_updated-file.json'\n",
    "# initiating a Folium map with Chicago's longitude and latitude\n",
    "coord = [41.88270035458986, -87.63663755997726]\n",
    "m = folium.Map(location = coord, tiles='stamentoner',zoom_start = 10)\n",
    "# creating a choropleth map\n",
    "m.choropleth(\n",
    "    geo_data = geo,\n",
    "    fill_opacity = 0.7,\n",
    "    line_opacity = 0.2,  \n",
    "    data = d[0],\n",
    "    # refers to which key within the GeoJSON to map the ZIP code to\n",
    "    key_on = 'feature.properties.zip',\n",
    "    # first element contains location information, second element contains feature of interest\n",
    "    columns = [\"Zip\",\"Violation risk\"],\n",
    "    fill_color = 'BuPu',\n",
    "    legend_name = (' ').join(\"Violation risk\".split('_')).title() + ' Number of facilites Across Chigaco'\n",
    ")\n",
    "m.choropleth(\n",
    "    geo_data = geo,\n",
    "    fill_opacity = 0.7,\n",
    "    line_opacity = 0.2,  \n",
    "    data = d[1],\n",
    "    # refers to which key within the GeoJSON to map the ZIP code to\n",
    "    key_on = 'feature.properties.zip',\n",
    "    # first element contains location information, second element contains feature of interest\n",
    "    columns = [\"Zip\",\"Violation risk\"],\n",
    "    fill_color = 'BuPu',\n",
    "    legend_name = (' ').join(\"Violation risk\".split('_')).title() + ' Number of facilites Across Chigaco'\n",
    ")\n",
    "m.choropleth(\n",
    "    geo_data = geo,\n",
    "    fill_opacity = 0.7,\n",
    "    line_opacity = 0.2,  \n",
    "    data = d[2],\n",
    "    # refers to which key within the GeoJSON to map the ZIP code to\n",
    "    key_on = 'feature.properties.zip',\n",
    "    # first element contains location information, second element contains feature of interest\n",
    "    columns = [\"Zip\",\"Violation risk\"],\n",
    "    fill_color = 'BuPu',\n",
    "    overlay = True,\n",
    "    legend_name = (' ').join(\"Violation risk\".split('_')).title() + ' Number of facilites Across Chigaco'\n",
    ")\n",
    "m.choropleth(\n",
    "    geo_data = geo,\n",
    "    fill_opacity = 0.7,\n",
    "    line_opacity = 0.2,  \n",
    "    data = d[3],\n",
    "    # refers to which key within the GeoJSON to map the ZIP code to\n",
    "    key_on = 'feature.properties.zip',\n",
    "    # first element contains location information, second element contains feature of interest\n",
    "    columns = [\"Zip\",\"Violation risk\"],\n",
    "    fill_color = 'BuPu',\n",
    "    legend_name = (' ').join(\"Violation risk\".split('_')).title() + ' Number of facilites Across Chigaco'\n",
    ")\n",
    "m.choropleth(\n",
    "    geo_data = geo,\n",
    "    fill_opacity = 0.7,\n",
    "    line_opacity = 0.2,  \n",
    "    data = d[4],\n",
    "    # refers to which key within the GeoJSON to map the ZIP code to\n",
    "    key_on = 'feature.properties.zip',\n",
    "    # first element contains location information, second element contains feature of interest\n",
    "    columns = [\"Zip\",\"Violation risk\"],\n",
    "    fill_color = 'BuPu',\n",
    "    legend_name = (' ').join(\"Violation risk\".split('_')).title() + ' Number of facilites Across Chigaco'\n",
    ")\n",
    "m.choropleth(\n",
    "    geo_data = geo,\n",
    "    fill_opacity = 0.7,\n",
    "    line_opacity = 0.2,  \n",
    "    data = d[5],\n",
    "    # refers to which key within the GeoJSON to map the ZIP code to\n",
    "    key_on = 'feature.properties.zip',\n",
    "    # first element contains location information, second element contains feature of interest\n",
    "    columns = [\"Zip\",\"Violation risk\"],\n",
    "    fill_color = 'BuPu',\n",
    "    legend_name = (' ').join(\"Violation risk\".split('_')).title() + ' Number of facilites Across Chigaco'\n",
    ")\n",
    "m.choropleth(\n",
    "    geo_data = geo,\n",
    "    fill_opacity = 0.7,\n",
    "    line_opacity = 0.2,  \n",
    "    data = d[6],\n",
    "    # refers to which key within the GeoJSON to map the ZIP code to\n",
    "    key_on = 'feature.properties.zip',\n",
    "    # first element contains location information, second element contains feature of interest\n",
    "    columns = [\"Zip\",\"Violation risk\"],\n",
    "    fill_color = 'BuPu',\n",
    "    legend_name = (' ').join(\"Violation risk\".split('_')).title() + ' Number of facilites Across Chigaco'\n",
    ")\n",
    "m.choropleth(\n",
    "    geo_data = geo,\n",
    "    fill_opacity = 0.7,\n",
    "    line_opacity = 0.2,  \n",
    "    data = d[7],\n",
    "    # refers to which key within the GeoJSON to map the ZIP code to\n",
    "    key_on = 'feature.properties.zip',\n",
    "    # first element contains location information, second element contains feature of interest\n",
    "    columns = [\"Zip\",\"Violation risk\"],\n",
    "    fill_color = 'BuPu',\n",
    "    legend_name = (' ').join(\"Violation risk\".split('_')).title() + ' Number of facilites Across Chigaco'\n",
    ")\n",
    "\n",
    "folium.LayerControl().add_to(m)\n",
    "m.save(\"Bite.html\")"
   ]
  },
  {
   "cell_type": "code",
   "execution_count": null,
   "metadata": {},
   "outputs": [],
   "source": []
  }
 ],
 "metadata": {
  "kernelspec": {
   "display_name": "Python 3",
   "language": "python",
   "name": "python3"
  },
  "language_info": {
   "codemirror_mode": {
    "name": "ipython",
    "version": 3
   },
   "file_extension": ".py",
   "mimetype": "text/x-python",
   "name": "python",
   "nbconvert_exporter": "python",
   "pygments_lexer": "ipython3",
   "version": "3.7.4"
  }
 },
 "nbformat": 4,
 "nbformat_minor": 4
}
