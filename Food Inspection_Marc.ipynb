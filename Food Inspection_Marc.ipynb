{
 "cells": [
  {
   "cell_type": "code",
   "execution_count": 1,
   "metadata": {},
   "outputs": [],
   "source": [
    "import os\n",
    "import pandas as pd\n",
    "import numpy as np\n",
    "import seaborn as sns\n",
    "import matplotlib.pyplot as plt\n",
    "import folium\n",
    "import json\n",
    "from decimal import Decimal\n",
    "from folium import plugins\n"
   ]
  },
  {
   "cell_type": "markdown",
   "metadata": {},
   "source": [
    "## Cleaning Data"
   ]
  },
  {
   "cell_type": "code",
   "execution_count": 2,
   "metadata": {},
   "outputs": [
    {
     "data": {
      "text/html": [
       "<div>\n",
       "<style scoped>\n",
       "    .dataframe tbody tr th:only-of-type {\n",
       "        vertical-align: middle;\n",
       "    }\n",
       "\n",
       "    .dataframe tbody tr th {\n",
       "        vertical-align: top;\n",
       "    }\n",
       "\n",
       "    .dataframe thead th {\n",
       "        text-align: right;\n",
       "    }\n",
       "</style>\n",
       "<table border=\"1\" class=\"dataframe\">\n",
       "  <thead>\n",
       "    <tr style=\"text-align: right;\">\n",
       "      <th></th>\n",
       "      <th>Inspection ID</th>\n",
       "      <th>DBA Name</th>\n",
       "      <th>AKA Name</th>\n",
       "      <th>License #</th>\n",
       "      <th>Facility Type</th>\n",
       "      <th>Risk</th>\n",
       "      <th>Address</th>\n",
       "      <th>City</th>\n",
       "      <th>State</th>\n",
       "      <th>Zip</th>\n",
       "      <th>...</th>\n",
       "      <th>Results</th>\n",
       "      <th>Violations</th>\n",
       "      <th>Latitude</th>\n",
       "      <th>Longitude</th>\n",
       "      <th>Location</th>\n",
       "      <th>Historical Wards 2003-2015</th>\n",
       "      <th>Zip Codes</th>\n",
       "      <th>Community Areas</th>\n",
       "      <th>Census Tracts</th>\n",
       "      <th>Wards</th>\n",
       "    </tr>\n",
       "  </thead>\n",
       "  <tbody>\n",
       "    <tr>\n",
       "      <td>0</td>\n",
       "      <td>2345323</td>\n",
       "      <td>ARMAND'S PIZZERIA</td>\n",
       "      <td>ARMAND'S PIZZERIA</td>\n",
       "      <td>2698587.0</td>\n",
       "      <td>Restaurant</td>\n",
       "      <td>Risk 1 (High)</td>\n",
       "      <td>29 N WACKER DR</td>\n",
       "      <td>CHICAGO</td>\n",
       "      <td>IL</td>\n",
       "      <td>60606.0</td>\n",
       "      <td>...</td>\n",
       "      <td>Pass w/ Conditions</td>\n",
       "      <td>3. MANAGEMENT, FOOD EMPLOYEE AND CONDITIONAL E...</td>\n",
       "      <td>41.882700</td>\n",
       "      <td>-87.636638</td>\n",
       "      <td>{'longitude': '41.88270035458986', 'latitude':...</td>\n",
       "      <td>NaN</td>\n",
       "      <td>NaN</td>\n",
       "      <td>NaN</td>\n",
       "      <td>NaN</td>\n",
       "      <td>NaN</td>\n",
       "    </tr>\n",
       "    <tr>\n",
       "      <td>1</td>\n",
       "      <td>2345321</td>\n",
       "      <td>GOPUFF</td>\n",
       "      <td>GOPUFF</td>\n",
       "      <td>2684560.0</td>\n",
       "      <td>Grocery Store</td>\n",
       "      <td>Risk 3 (Low)</td>\n",
       "      <td>1801 W WARNER AVE</td>\n",
       "      <td>CHICAGO</td>\n",
       "      <td>IL</td>\n",
       "      <td>60613.0</td>\n",
       "      <td>...</td>\n",
       "      <td>Pass</td>\n",
       "      <td>NaN</td>\n",
       "      <td>41.956846</td>\n",
       "      <td>-87.674395</td>\n",
       "      <td>{'longitude': '41.956845683288854', 'latitude'...</td>\n",
       "      <td>NaN</td>\n",
       "      <td>NaN</td>\n",
       "      <td>NaN</td>\n",
       "      <td>NaN</td>\n",
       "      <td>NaN</td>\n",
       "    </tr>\n",
       "    <tr>\n",
       "      <td>2</td>\n",
       "      <td>2345325</td>\n",
       "      <td>TACO MAX MEXICAN GRILL</td>\n",
       "      <td>TACO MAX MEXICAN GRILL</td>\n",
       "      <td>2699082.0</td>\n",
       "      <td>Restaurant</td>\n",
       "      <td>Risk 1 (High)</td>\n",
       "      <td>3402 W MONTROSE AVE</td>\n",
       "      <td>CHICAGO</td>\n",
       "      <td>IL</td>\n",
       "      <td>60618.0</td>\n",
       "      <td>...</td>\n",
       "      <td>Pass w/ Conditions</td>\n",
       "      <td>3. MANAGEMENT, FOOD EMPLOYEE AND CONDITIONAL E...</td>\n",
       "      <td>41.961238</td>\n",
       "      <td>-87.713284</td>\n",
       "      <td>{'longitude': '41.961237630038035', 'latitude'...</td>\n",
       "      <td>NaN</td>\n",
       "      <td>NaN</td>\n",
       "      <td>NaN</td>\n",
       "      <td>NaN</td>\n",
       "      <td>NaN</td>\n",
       "    </tr>\n",
       "    <tr>\n",
       "      <td>3</td>\n",
       "      <td>2345370</td>\n",
       "      <td>CAFE BALLOU</td>\n",
       "      <td>CAFE BALLOU &amp; DELI</td>\n",
       "      <td>2433048.0</td>\n",
       "      <td>Restaurant</td>\n",
       "      <td>Risk 1 (High)</td>\n",
       "      <td>939 N WESTERN AVE</td>\n",
       "      <td>CHICAGO</td>\n",
       "      <td>IL</td>\n",
       "      <td>60622.0</td>\n",
       "      <td>...</td>\n",
       "      <td>No Entry</td>\n",
       "      <td>NaN</td>\n",
       "      <td>41.898706</td>\n",
       "      <td>-87.686773</td>\n",
       "      <td>{'longitude': '41.89870606533506', 'latitude':...</td>\n",
       "      <td>NaN</td>\n",
       "      <td>NaN</td>\n",
       "      <td>NaN</td>\n",
       "      <td>NaN</td>\n",
       "      <td>NaN</td>\n",
       "    </tr>\n",
       "    <tr>\n",
       "      <td>4</td>\n",
       "      <td>2345376</td>\n",
       "      <td>GARIBAY POULTRY</td>\n",
       "      <td>GARIBAY POULTRY</td>\n",
       "      <td>1908500.0</td>\n",
       "      <td>CUSTOM POULTRY SLAUGHTER</td>\n",
       "      <td>Risk 2 (Medium)</td>\n",
       "      <td>2100 S CALIFORNIA AVE</td>\n",
       "      <td>CHICAGO</td>\n",
       "      <td>IL</td>\n",
       "      <td>60608.0</td>\n",
       "      <td>...</td>\n",
       "      <td>Pass</td>\n",
       "      <td>47. FOOD &amp; NON-FOOD CONTACT SURFACES CLEANABLE...</td>\n",
       "      <td>41.853688</td>\n",
       "      <td>-87.695652</td>\n",
       "      <td>{'longitude': '41.85368770723974', 'latitude':...</td>\n",
       "      <td>NaN</td>\n",
       "      <td>NaN</td>\n",
       "      <td>NaN</td>\n",
       "      <td>NaN</td>\n",
       "      <td>NaN</td>\n",
       "    </tr>\n",
       "  </tbody>\n",
       "</table>\n",
       "<p>5 rows × 22 columns</p>\n",
       "</div>"
      ],
      "text/plain": [
       "   Inspection ID                DBA Name                AKA Name  License #  \\\n",
       "0        2345323       ARMAND'S PIZZERIA       ARMAND'S PIZZERIA  2698587.0   \n",
       "1        2345321                  GOPUFF                  GOPUFF  2684560.0   \n",
       "2        2345325  TACO MAX MEXICAN GRILL  TACO MAX MEXICAN GRILL  2699082.0   \n",
       "3        2345370             CAFE BALLOU      CAFE BALLOU & DELI  2433048.0   \n",
       "4        2345376         GARIBAY POULTRY         GARIBAY POULTRY  1908500.0   \n",
       "\n",
       "              Facility Type             Risk                 Address     City  \\\n",
       "0                Restaurant    Risk 1 (High)         29 N WACKER DR   CHICAGO   \n",
       "1             Grocery Store     Risk 3 (Low)      1801 W WARNER AVE   CHICAGO   \n",
       "2                Restaurant    Risk 1 (High)    3402 W MONTROSE AVE   CHICAGO   \n",
       "3                Restaurant    Risk 1 (High)      939 N WESTERN AVE   CHICAGO   \n",
       "4  CUSTOM POULTRY SLAUGHTER  Risk 2 (Medium)  2100 S CALIFORNIA AVE   CHICAGO   \n",
       "\n",
       "  State      Zip  ...             Results  \\\n",
       "0    IL  60606.0  ...  Pass w/ Conditions   \n",
       "1    IL  60613.0  ...                Pass   \n",
       "2    IL  60618.0  ...  Pass w/ Conditions   \n",
       "3    IL  60622.0  ...            No Entry   \n",
       "4    IL  60608.0  ...                Pass   \n",
       "\n",
       "                                          Violations   Latitude  Longitude  \\\n",
       "0  3. MANAGEMENT, FOOD EMPLOYEE AND CONDITIONAL E...  41.882700 -87.636638   \n",
       "1                                                NaN  41.956846 -87.674395   \n",
       "2  3. MANAGEMENT, FOOD EMPLOYEE AND CONDITIONAL E...  41.961238 -87.713284   \n",
       "3                                                NaN  41.898706 -87.686773   \n",
       "4  47. FOOD & NON-FOOD CONTACT SURFACES CLEANABLE...  41.853688 -87.695652   \n",
       "\n",
       "                                            Location  \\\n",
       "0  {'longitude': '41.88270035458986', 'latitude':...   \n",
       "1  {'longitude': '41.956845683288854', 'latitude'...   \n",
       "2  {'longitude': '41.961237630038035', 'latitude'...   \n",
       "3  {'longitude': '41.89870606533506', 'latitude':...   \n",
       "4  {'longitude': '41.85368770723974', 'latitude':...   \n",
       "\n",
       "   Historical Wards 2003-2015 Zip Codes  Community Areas  Census Tracts  Wards  \n",
       "0                         NaN       NaN              NaN            NaN    NaN  \n",
       "1                         NaN       NaN              NaN            NaN    NaN  \n",
       "2                         NaN       NaN              NaN            NaN    NaN  \n",
       "3                         NaN       NaN              NaN            NaN    NaN  \n",
       "4                         NaN       NaN              NaN            NaN    NaN  \n",
       "\n",
       "[5 rows x 22 columns]"
      ]
     },
     "execution_count": 2,
     "metadata": {},
     "output_type": "execute_result"
    }
   ],
   "source": [
    "data = pd.read_csv('food-inspections.csv')\n",
    "data.head()\n"
   ]
  },
  {
   "cell_type": "code",
   "execution_count": 3,
   "metadata": {},
   "outputs": [],
   "source": [
    "#First we create 3 new columns for time interval of the inspections\n",
    "data['year']=data['Inspection Date'].apply(lambda x:x.split('-')[0]).astype(int)\n",
    "data['month']=data['Inspection Date'].apply(lambda x:x.split('-')[1]).astype(int)\n",
    "data['day']=data['Inspection Date'].apply(lambda x:x.split('-')[2].split('T')[0]).astype(int)"
   ]
  },
  {
   "cell_type": "code",
   "execution_count": 4,
   "metadata": {},
   "outputs": [
    {
     "data": {
      "text/html": [
       "<div>\n",
       "<style scoped>\n",
       "    .dataframe tbody tr th:only-of-type {\n",
       "        vertical-align: middle;\n",
       "    }\n",
       "\n",
       "    .dataframe tbody tr th {\n",
       "        vertical-align: top;\n",
       "    }\n",
       "\n",
       "    .dataframe thead th {\n",
       "        text-align: right;\n",
       "    }\n",
       "</style>\n",
       "<table border=\"1\" class=\"dataframe\">\n",
       "  <thead>\n",
       "    <tr style=\"text-align: right;\">\n",
       "      <th></th>\n",
       "      <th>count</th>\n",
       "      <th>unique</th>\n",
       "      <th>top</th>\n",
       "      <th>freq</th>\n",
       "    </tr>\n",
       "    <tr>\n",
       "      <th>Zip</th>\n",
       "      <th></th>\n",
       "      <th></th>\n",
       "      <th></th>\n",
       "      <th></th>\n",
       "    </tr>\n",
       "  </thead>\n",
       "  <tbody>\n",
       "    <tr>\n",
       "      <td>10014.0</td>\n",
       "      <td>0</td>\n",
       "      <td>0</td>\n",
       "      <td>NaN</td>\n",
       "      <td>NaN</td>\n",
       "    </tr>\n",
       "    <tr>\n",
       "      <td>60559.0</td>\n",
       "      <td>0</td>\n",
       "      <td>0</td>\n",
       "      <td>NaN</td>\n",
       "      <td>NaN</td>\n",
       "    </tr>\n",
       "    <tr>\n",
       "      <td>60438.0</td>\n",
       "      <td>1</td>\n",
       "      <td>1</td>\n",
       "      <td>Mobile Food Dispenser</td>\n",
       "      <td>1</td>\n",
       "    </tr>\n",
       "    <tr>\n",
       "      <td>60423.0</td>\n",
       "      <td>1</td>\n",
       "      <td>1</td>\n",
       "      <td>Shared Kitchen User (Long Term)</td>\n",
       "      <td>1</td>\n",
       "    </tr>\n",
       "  </tbody>\n",
       "</table>\n",
       "</div>"
      ],
      "text/plain": [
       "        count unique                              top freq\n",
       "Zip                                                       \n",
       "10014.0     0      0                              NaN  NaN\n",
       "60559.0     0      0                              NaN  NaN\n",
       "60438.0     1      1            Mobile Food Dispenser    1\n",
       "60423.0     1      1  Shared Kitchen User (Long Term)    1"
      ]
     },
     "execution_count": 4,
     "metadata": {},
     "output_type": "execute_result"
    }
   ],
   "source": [
    "# Let's look in detail to the Zip code \n",
    "full_zip = data.groupby(\"Zip\")[\"Facility Type\"].describe()\n",
    "full_zip.sort_values(by= \"count\", ascending=True).head(4)\n"
   ]
  },
  {
   "cell_type": "markdown",
   "metadata": {},
   "source": [
    "We can see that some Zip codes have to few data's and restaurant we will thus need to do some webscrapping to get the missing information from those Zip codes to include them in our study"
   ]
  },
  {
   "cell_type": "code",
   "execution_count": 5,
   "metadata": {},
   "outputs": [
    {
     "name": "stdout",
     "output_type": "stream",
     "text": [
      "The number of Zip code in our dataset with less than 100 restaurant is 53\n"
     ]
    }
   ],
   "source": [
    "print(\"The number of Zip code in our dataset with less than 100 restaurant is\",len(full_zip[full_zip[\"count\"]<100]))"
   ]
  },
  {
   "cell_type": "markdown",
   "metadata": {},
   "source": [
    "Let's consider only the dataset that contains non NA values for Longitude or Lagitude and we transform the Risk column into an int value column"
   ]
  },
  {
   "cell_type": "code",
   "execution_count": 6,
   "metadata": {},
   "outputs": [],
   "source": [
    "loc= data[[\"Latitude\",\"Longitude\",\"AKA Name\",\"Risk\"]]\n",
    "missing = loc[loc.isnull().any(axis = 1)]\n",
    "data_removed = data.drop(missing.index)\n",
    "data_removed = data_removed.reset_index()\n",
    "data_removed[\"Risk\"] = data_removed[\"Risk\"].replace(to_replace =[\"All\"],  \n",
    "                            value =[\"Risk 1 (High)\"]) "
   ]
  },
  {
   "cell_type": "code",
   "execution_count": 7,
   "metadata": {},
   "outputs": [
    {
     "data": {
      "text/html": [
       "<div>\n",
       "<style scoped>\n",
       "    .dataframe tbody tr th:only-of-type {\n",
       "        vertical-align: middle;\n",
       "    }\n",
       "\n",
       "    .dataframe tbody tr th {\n",
       "        vertical-align: top;\n",
       "    }\n",
       "\n",
       "    .dataframe thead th {\n",
       "        text-align: right;\n",
       "    }\n",
       "</style>\n",
       "<table border=\"1\" class=\"dataframe\">\n",
       "  <thead>\n",
       "    <tr style=\"text-align: right;\">\n",
       "      <th></th>\n",
       "      <th>count</th>\n",
       "      <th>unique</th>\n",
       "      <th>top</th>\n",
       "      <th>freq</th>\n",
       "    </tr>\n",
       "    <tr>\n",
       "      <th>Zip</th>\n",
       "      <th></th>\n",
       "      <th></th>\n",
       "      <th></th>\n",
       "      <th></th>\n",
       "    </tr>\n",
       "  </thead>\n",
       "  <tbody>\n",
       "    <tr>\n",
       "      <td>60559.0</td>\n",
       "      <td>0</td>\n",
       "      <td>0</td>\n",
       "      <td>NaN</td>\n",
       "      <td>NaN</td>\n",
       "    </tr>\n",
       "    <tr>\n",
       "      <td>60148.0</td>\n",
       "      <td>1</td>\n",
       "      <td>1</td>\n",
       "      <td>Shared Kitchen User (Long Term)</td>\n",
       "      <td>1</td>\n",
       "    </tr>\n",
       "    <tr>\n",
       "      <td>60406.0</td>\n",
       "      <td>1</td>\n",
       "      <td>1</td>\n",
       "      <td>Shared Kitchen User (Long Term)</td>\n",
       "      <td>1</td>\n",
       "    </tr>\n",
       "    <tr>\n",
       "      <td>60627.0</td>\n",
       "      <td>1</td>\n",
       "      <td>1</td>\n",
       "      <td>AFTER SCHOOL PROGRAM</td>\n",
       "      <td>1</td>\n",
       "    </tr>\n",
       "  </tbody>\n",
       "</table>\n",
       "</div>"
      ],
      "text/plain": [
       "        count unique                              top freq\n",
       "Zip                                                       \n",
       "60559.0     0      0                              NaN  NaN\n",
       "60148.0     1      1  Shared Kitchen User (Long Term)    1\n",
       "60406.0     1      1  Shared Kitchen User (Long Term)    1\n",
       "60627.0     1      1             AFTER SCHOOL PROGRAM    1"
      ]
     },
     "execution_count": 7,
     "metadata": {},
     "output_type": "execute_result"
    }
   ],
   "source": [
    "# Let's look in detail to the Zip code in order to drop those \n",
    "restricted_zip = data_removed.groupby(\"Zip\")[\"Facility Type\"].describe()\n",
    "restricted_zip.sort_values(by= \"count\", ascending=True).head(4)\n"
   ]
  },
  {
   "cell_type": "code",
   "execution_count": 8,
   "metadata": {},
   "outputs": [
    {
     "name": "stdout",
     "output_type": "stream",
     "text": [
      "The number of Zip code in our dataset with less than 100 restaurant is 5\n",
      "The Zip codes are given by [60148. 60406. 60501. 60559. 60627.]\n"
     ]
    }
   ],
   "source": [
    "print(\"The number of Zip code in our dataset with less than 100 restaurant is\",len(restricted_zip[restricted_zip[\"count\"]<100]))\n",
    "print(\"The Zip codes are given by\",restricted_zip[restricted_zip[\"count\"]<100].index.values)"
   ]
  },
  {
   "cell_type": "markdown",
   "metadata": {},
   "source": [
    "We can see that after removing the NAN values from our data set, we have that the number of empty zip codes has diminished a lot, for the visualization part, for now we will not consider those Zip in our construction of the mapping of chicago since they do not containg restaurant type facilities in this data."
   ]
  },
  {
   "cell_type": "markdown",
   "metadata": {},
   "source": [
    "## Quick Risk overview"
   ]
  },
  {
   "cell_type": "markdown",
   "metadata": {},
   "source": [
    "Looking at a quick study of the Risk we have the following Plots "
   ]
  },
  {
   "cell_type": "code",
   "execution_count": 9,
   "metadata": {},
   "outputs": [
    {
     "data": {
      "image/png": "[encoded data removed]",
      "text/plain": [
       "<Figure size 1152x1152 with 4 Axes>"
      ]
     },
     "metadata": {
      "needs_background": "light"
     },
     "output_type": "display_data"
    }
   ],
   "source": [
    "colors = ['C1','C0','C2']\n",
    "fig,ax=plt.subplots(2,2,figsize=(16,16))\n",
    "data_removed.Risk.value_counts().plot(kind = 'bar', color= colors, ax = ax[0,0]) \n",
    "ax[0,0].tick_params(axis='x',labelrotation=360)\n",
    "ax[0,0].set_title(\"Risk count\",size=18)\n",
    "ax[0,0].set_ylabel('counts',size=16)\n",
    "\n",
    "data_removed.groupby(['year','Risk'])['Inspection ID'].agg('count').unstack('Risk').plot(ax = ax[0,1], color = colors)\n",
    "ax[0,1].set_title(\"Risk count by year\",size=18)\n",
    "ax[0,1].set_ylabel('counts',size=16)\n",
    "ax[0,1].set_xlabel('year',size=16)\n",
    "\n",
    "\n",
    "data_removed.groupby(['month','Risk'])['Inspection ID'].agg('count').unstack('Risk').plot(ax = ax[1,0], color = colors)\n",
    "ax[1,0].set_title(\"Risk count by month\",size=18)\n",
    "ax[1,0].set_ylabel('counts',size=16)\n",
    "ax[1,0].set_xlabel('month',size=16)\n",
    "\n",
    "data_removed.groupby(['day','Risk'])['Inspection ID'].agg('count').unstack('Risk').plot(ax = ax[1,1], color = colors)\n",
    "ax[1,1].set_title(\"Risk count by day\",size=18)\n",
    "ax[1,1].set_ylabel('counts',size=16)\n",
    "ax[1,1].set_xlabel('day',size=16)\n",
    "\n",
    "plt.show()"
   ]
  },
  {
   "cell_type": "markdown",
   "metadata": {},
   "source": [
    "## Risk in function of the Zip codes"
   ]
  },
  {
   "cell_type": "markdown",
   "metadata": {},
   "source": [
    "We now create a DataFrame containing all the data we want to plot in function of it Zip code hence we need to groupby zip and create features to our DataFrame"
   ]
  },
  {
   "cell_type": "code",
   "execution_count": 10,
   "metadata": {},
   "outputs": [
    {
     "data": {
      "text/plain": [
       "3.0    139031\n",
       "2.0     37402\n",
       "1.0     16192\n",
       "Name: Risk, dtype: int64"
      ]
     },
     "execution_count": 10,
     "metadata": {},
     "output_type": "execute_result"
    }
   ],
   "source": [
    "#We transform this with numerical values as follows\n",
    "data_removed[\"Risk\"] = data_removed[\"Risk\"].replace(to_replace =[\"Risk 3 (Low)\", \"Risk 2 (Medium)\", \"Risk 1 (High)\",\"All\"],  \n",
    "                            value =[1,2,3,3]) \n",
    "data_removed.Risk = data_removed.Risk.astype(float)\n",
    "data_removed[\"Risk\"].value_counts()"
   ]
  },
  {
   "cell_type": "code",
   "execution_count": 18,
   "metadata": {},
   "outputs": [],
   "source": [
    "#Groupby ZIPS\n",
    "zip_data = data_removed.groupby(\"Zip\")\n",
    "# Count number of failed exams\n",
    "failed = data_removed[data_removed['Results'] == 'Fail'].groupby('Zip')[\"Results\"].count()\n",
    "failed_per = ((failed/zip_data.Results.count())*100)\n",
    "# Look for most frequent facility \n",
    "fac = zip_data[\"Facility Type\"].describe()\n",
    "#High risk restaurant \n",
    "high_risk = data_removed.loc[data_removed['Risk'] == 3]\n",
    "high_per = ((high_risk[\"Zip\"].value_counts()/data_removed[\"Zip\"].value_counts())*100)\n",
    "#Low risk restaurant \n",
    "low_risk = data_removed.loc[data_removed['Risk'] == 1]\n",
    "low_per = ((low_risk[\"Zip\"].value_counts()/data_removed[\"Zip\"].value_counts())*100)\n",
    "#Add all features I can think of\n",
    "mean_risk = zip_data.Risk.mean()\n",
    "value_count = data_removed[\"Zip\"].value_counts()\n",
    "risk_map = pd.DataFrame(mean_risk)\n",
    "risk_map[\"Count\"] = value_count\n",
    "risk_map[\"Fail\"] = failed\n",
    "risk_map[\"Percentage of Failed Exams\"] = failed_per\n",
    "risk_map[\"Percentage High Risk\"] = high_per\n",
    "risk_map[\"Percentage Low Risk\"] = low_per\n",
    "risk_map[\"Top Facility\"] = fac.top.values\n",
    "risk_map = risk_map.reset_index()\n",
    "risk_map[\"Zip\"] = risk_map[\"Zip\"].astype(int)\n",
    "risk_map = risk_map.fillna(0)\n",
    "risk_map[\"Percentage High Risk\"] = risk_map[\"Percentage High Risk\"].astype(int)\n",
    "risk_map[\"Percentage Low Risk\"] = risk_map[\"Percentage Low Risk\"].astype(int)\n",
    "risk_map[\"Percentage of Failed Exams\"] = risk_map[\"Percentage of Failed Exams\"].astype(int)\n",
    "risk_map.to_csv(\"Risk_study.csv\")"
   ]
  },
  {
   "cell_type": "markdown",
   "metadata": {},
   "source": [
    "As we can see the Zip codes defined above should not be considered for explanatory data analysis as they are clea outliers. Hence from the 109 Zips from the beggining we here work only with 60 of those which are mostly composed of restaurants"
   ]
  },
  {
   "cell_type": "markdown",
   "metadata": {},
   "source": [
    "We know use Folium to have nice plots with the value of our table defined above"
   ]
  },
  {
   "cell_type": "code",
   "execution_count": 13,
   "metadata": {},
   "outputs": [],
   "source": [
    "#Example of Map obtained using Folium \n",
    "coord = [data_removed[\"Latitude\"][0],data_removed[\"Longitude\"][0]]\n",
    "m= folium.Map(location= coord,tiles='Stamen Toner', zoom_start=10)\n"
   ]
  },
  {
   "cell_type": "code",
   "execution_count": 14,
   "metadata": {},
   "outputs": [
    {
     "data": {
      "text/plain": [
       "5939874"
      ]
     },
     "execution_count": 14,
     "metadata": {},
     "output_type": "execute_result"
    }
   ],
   "source": [
    "# load GeoJSON\n",
    "with open('Boundaries - ZIP Codes.geojson', 'r') as jsonFile:\n",
    "    data_ = json.load(jsonFile)\n",
    "tmp = data_\n",
    "\n",
    "# remove ZIP codes not in our dataset\n",
    "geozips = []\n",
    "A=[]\n",
    "for i in range(len(tmp['features'])):\n",
    "    A.append(int((tmp['features'][i]['properties']['zip'])))\n",
    "    if A[i] in (risk_map[\"Zip\"].unique()):\n",
    "        tmp['features'][i]['properties']['zip'] = int((tmp['features'][i]['properties']['zip']))\n",
    "        geozips.append(tmp['features'][i])\n",
    "        \n",
    "# creating new JSON object\n",
    "new_json = dict.fromkeys(['type','features'])\n",
    "new_json['type'] = 'FeatureCollection'\n",
    "new_json['features'] = geozips\n",
    "\n",
    "# save JSON object as updated-file\n",
    "open(\"updated-file.json\", \"w\").write(\n",
    "    json.dumps(new_json, sort_keys=True, indent=4, separators=(',', ': '))\n",
    ")"
   ]
  },
  {
   "cell_type": "markdown",
   "metadata": {},
   "source": [
    "We have created a JSON file containing all information needed for our ZIP code that are given in our data and that can be found also in Boundaries - ZIP Codes.geojson. We get a dataset with 61 entries, better to find one with more ZIP "
   ]
  },
  {
   "cell_type": "code",
   "execution_count": 15,
   "metadata": {},
   "outputs": [],
   "source": [
    "def create_map(table, zips, mapped_feature, add_text = ''):\n",
    "    # reading of the updated GeoJSON file\n",
    "    geo = r'updated-file.json'\n",
    "    # initiating a Folium map with LA's longitude and latitude\n",
    "    m = folium.Map(location = coord, tiles='cartodbpositron',zoom_start = 11)\n",
    "    # creating a choropleth map\n",
    "    m.choropleth(\n",
    "        geo_data = geo,\n",
    "        fill_opacity = 0.7,\n",
    "        line_opacity = 0.2,\n",
    "        data = table,\n",
    "        # refers to which key within the GeoJSON to map the ZIP code to\n",
    "        key_on = 'feature.properties.zip',\n",
    "        # first element contains location information, second element contains feature of interest\n",
    "        columns = [zips, mapped_feature],\n",
    "        fill_color = 'BuPu',\n",
    "        legend_name = (' ').join(mapped_feature.split('_')).title() + ' Number of facilites ' + add_text + ' Across Chigaco'\n",
    "    )\n",
    "    folium.LayerControl().add_to(m)\n",
    "    # save map with filename based on the feature of interest\n",
    "    m.save(outfile = mapped_feature + '_map.html')"
   ]
  },
  {
   "cell_type": "code",
   "execution_count": 19,
   "metadata": {},
   "outputs": [],
   "source": [
    "# We can thus create maps with all the the features needed \n",
    "create_map(risk_map, 'Zip', 'Risk', 'of Facilities')\n",
    "create_map(risk_map, 'Zip', 'Count', 'of Facilities')\n",
    "create_map(risk_map, 'Zip', 'Percentage of Failed Exams', 'of Facilities')\n",
    "create_map(risk_map, 'Zip', \"Percentage High Risk\", 'of Facilities')\n",
    "create_map(risk_map, 'Zip', \"Percentage Low Risk\", 'of Facilities')\n"
   ]
  },
  {
   "cell_type": "markdown",
   "metadata": {},
   "source": [
    "We have now the folloqing results:\n",
    "\n",
    "In the map of risk we can see that"
   ]
  },
  {
   "cell_type": "code",
   "execution_count": null,
   "metadata": {},
   "outputs": [],
   "source": [
    "def coloriage(zip_):\n",
    "    if risk_map.loc[risk_map['Zip'] == zip_, 'Top Facility'].values[0]==\"Restaurant\":\n",
    "        return '#0000ff'\n",
    "    else:\n",
    "        return '#ff0000'\n",
    "    "
   ]
  },
  {
   "cell_type": "code",
   "execution_count": null,
   "metadata": {},
   "outputs": [],
   "source": [
    "# We want to look at the map where he have the most frequent facility type\n",
    "state_geo_path = r\"updated-file.json\"\n",
    "geo_json_data = json.load(open(state_geo_path))\n",
    "results_map = folium.Map(coord, tiles='cartodbpositron', zoom_start=10)\n",
    "folium.GeoJson(\n",
    "    geo_json_data,\n",
    "    style_function=lambda features: {\n",
    "        'fillColor': coloriage(features[\"properties\"][\"zip\"]),\n",
    "        'color' : 'black',\n",
    "        'weight' : 3,\n",
    "        'dashArray' : '5, 5'\n",
    "        }\n",
    "    ).add_to(results_map)\n",
    "\n"
   ]
  },
  {
   "cell_type": "markdown",
   "metadata": {},
   "source": [
    "We can see that there is only a district in the far border near Dolton which is composed mostly of Schools\n"
   ]
  },
  {
   "cell_type": "markdown",
   "metadata": {},
   "source": [
    "Now Let's look at the HeatMap folium function found on the folium Package"
   ]
  },
  {
   "cell_type": "code",
   "execution_count": null,
   "metadata": {},
   "outputs": [],
   "source": [
    "def generateBaseMap(default_location=coord, default_zoom_start=12):\n",
    "    base_map = folium.Map(location=default_location, control_scale=True, zoom_start=default_zoom_start)\n",
    "    return base_map"
   ]
  },
  {
   "cell_type": "code",
   "execution_count": null,
   "metadata": {},
   "outputs": [],
   "source": [
    "from folium.plugins import HeatMap\n",
    "base_map = generateBaseMap()\n",
    "HeatMap(data=data_removed[['Latitude', 'Longitude']].groupby(['Latitude', 'Longitude']).sum().reset_index().values.tolist(), radius=8, max_zoom=13).add_to(base_map)\n",
    "base_map.save(\"Heatmap of facilities\")"
   ]
  },
  {
   "cell_type": "markdown",
   "metadata": {},
   "source": [
    "## Working in function of the Years"
   ]
  },
  {
   "cell_type": "code",
   "execution_count": null,
   "metadata": {},
   "outputs": [],
   "source": [
    "fig,ax=plt.subplots(2,2,figsize=(20,20))\n",
    "x=data_removed.year.value_counts().index\n",
    "y=data_removed.year.value_counts()\n",
    "sns.barplot(x=x,y=y,ax=ax[0,0])\n",
    "ax[0,0].set_title(\"The counts of inspection by year\",size=20)\n",
    "ax[0,0].set_ylabel('counts',size=18)\n",
    "ax[0,0].set_xlabel('')\n",
    "\n",
    "x=data_removed.month.value_counts().index\n",
    "y=data_removed.month.value_counts()\n",
    "sns.barplot(x=x,y=y,ax=ax[0,1])\n",
    "ax[0,1].set_title(\"The counts of inspection by month\",size=20)\n",
    "ax[0,1].set_ylabel('counts',size=18)\n",
    "ax[0,1].set_xlabel('')\n",
    "\n",
    "x=data_removed.day.value_counts().index\n",
    "y=data_removed.day.value_counts()\n",
    "sns.barplot(x=x,y=y,ax=ax[1,0])\n",
    "ax[1,0].set_title(\"The counts of inspection by day\",size=20)\n",
    "ax[1,0].set_ylabel('counts',size=18)\n",
    "ax[1,0].set_xlabel('')\n",
    "\n",
    "data_removed.groupby(['year','month'])['Inspection ID'].agg('count').unstack('year').plot(ax=ax[1,1])\n",
    "ax[1,1].set_title(\"The counts of inspection for every month by year\",size=20)\n",
    "ax[1,1].set_ylabel('counts',size=18)\n",
    "ax[1,1].set_xlabel('month')\n",
    "plt.show()"
   ]
  },
  {
   "cell_type": "markdown",
   "metadata": {},
   "source": [
    "## Looking at a restaurant based Analysis "
   ]
  },
  {
   "cell_type": "code",
   "execution_count": null,
   "metadata": {},
   "outputs": [],
   "source": [
    "def generateBaseMap(default_location=coord, default_zoom_start=12):\n",
    "    base_map = folium.Map(location=default_location, control_scale=True, zoom_start=default_zoom_start)\n",
    "    return base_map"
   ]
  },
  {
   "cell_type": "code",
   "execution_count": null,
   "metadata": {},
   "outputs": [],
   "source": [
    "name_data = data_removed.groupby([\"AKA Name\",\"Latitude\",\"Longitude\",\"year\"])\n",
    "name_count = name_data[\"DBA Name\"].count()\n",
    "name_map = pd.DataFrame(name_count)\n",
    "name_map = name_map.rename(columns={\"DBA Name\": \"Count\"})\n",
    "name_map = name_map.reset_index()\n",
    "name_map.head()"
   ]
  },
  {
   "cell_type": "code",
   "execution_count": null,
   "metadata": {},
   "outputs": [],
   "source": [
    "from folium.plugins import HeatMap\n",
    "base_map = generateBaseMap()\n",
    "HeatMap(data=data_removed[[\"Latitude\",\"Longitude\"]].groupby([\"Latitude\",\"Longitude\"]).sum().reset_index().values.tolist(), radius=8, max_zoom=13).add_to(base_map)\n",
    "base_map.save(\"Heatmap.html\")"
   ]
  },
  {
   "cell_type": "code",
   "execution_count": null,
   "metadata": {},
   "outputs": [],
   "source": [
    "year_list = []\n",
    "for year in data_removed.year.sort_values().unique():\n",
    "    year_list.append(name_map.loc[name_map.year == year, [\"Latitude\",\"Longitude\",\"Count\"]])"
   ]
  },
  {
   "cell_type": "code",
   "execution_count": null,
   "metadata": {},
   "outputs": [],
   "source": [
    "from folium.plugins import HeatMapWithTime\n",
    "base_map = generateBaseMap(default_zoom_start=11)\n",
    "HeatMapWithTime(year_list, radius=5, gradient={0.2: 'blue', 0.4: 'lime', 0.6: 'orange', 1: 'red'}, min_opacity=0.5, max_opacity=0.8, use_local_extrema=True).add_to(base_map)\n",
    "base_map"
   ]
  },
  {
   "cell_type": "markdown",
   "metadata": {},
   "source": [
    "## Deeper study of the risk using heat maps"
   ]
  },
  {
   "cell_type": "code",
   "execution_count": null,
   "metadata": {},
   "outputs": [],
   "source": [
    "data_risk1 = data_removed[data_removed['Risk'] == 3 ]\n",
    "data_risk2 = data_removed[data_removed['Risk'] == 2 ]\n",
    "data_risk3 = data_removed[data_removed['Risk'] == 1 ]\n"
   ]
  },
  {
   "cell_type": "code",
   "execution_count": null,
   "metadata": {},
   "outputs": [],
   "source": [
    "ax = sns.jointplot(\"Latitude\", \"Longitude\", data=data_risk1[0:500], kind=\"kde\", space=0, color= colors[0], height=7)\n",
    "ax.fig.suptitle(\"Risk 1 (High)\")\n",
    "plt.show()\n",
    "\n",
    "ax = sns.jointplot(\"Latitude\", \"Longitude\", data=data_risk2[0:500], kind=\"kde\", space=0, color= colors[1], height=7)\n",
    "ax.fig.suptitle(\"Risk 2 (Medium)\")\n",
    "plt.show()\n",
    "\n",
    "ax = sns.jointplot(\"Latitude\", \"Longitude\", data=data_risk3[0:500], kind=\"kde\", space=0, color= colors[2], height=7)\n",
    "ax.fig.suptitle(\"Risk 3 (Low)\")\n",
    "plt.show()"
   ]
  },
  {
   "cell_type": "code",
   "execution_count": null,
   "metadata": {},
   "outputs": [],
   "source": [
    "coord = [data_risk1[\"Latitude\"].mean(),data_risk1[\"Longitude\"].mean()] \n",
    "m_risk1= folium.Map(location= coord,tiles='Stamen Toner', zoom_start=10)\n",
    "coords = data_risk1[['Latitude', 'Longitude']].as_matrix()\n",
    "m_risk1.add_child(plugins.HeatMap(coords, radius=15))\n",
    "m_risk1"
   ]
  },
  {
   "cell_type": "code",
   "execution_count": null,
   "metadata": {},
   "outputs": [],
   "source": [
    "coord = [data_risk2[\"Latitude\"].mean(),data_risk2[\"Longitude\"].mean()] \n",
    "m_risk2= folium.Map(location= coord,tiles='Stamen Toner', zoom_start=10)\n",
    "coords = data_risk2[['Latitude', 'Longitude']].as_matrix()\n",
    "m_risk2.add_child(plugins.HeatMap(coords, radius=15))\n",
    "m_risk2"
   ]
  },
  {
   "cell_type": "code",
   "execution_count": null,
   "metadata": {},
   "outputs": [],
   "source": [
    "coord = [data_risk3[\"Latitude\"].mean(),data_risk3[\"Longitude\"].mean()] \n",
    "m_risk3= folium.Map(location= coord,tiles='Stamen Toner', zoom_start=10)\n",
    "coords = data_risk3[['Latitude', 'Longitude']].as_matrix()\n",
    "m_risk3.add_child(plugins.HeatMap(coords, radius=15))\n",
    "m_risk3"
   ]
  },
  {
   "cell_type": "code",
   "execution_count": null,
   "metadata": {},
   "outputs": [],
   "source": []
  }
 ],
 "metadata": {
  "kernelspec": {
   "display_name": "Python 3",
   "language": "python",
   "name": "python3"
  },
  "language_info": {
   "codemirror_mode": {
    "name": "ipython",
    "version": 3
   },
   "file_extension": ".py",
   "mimetype": "text/x-python",
   "name": "python",
   "nbconvert_exporter": "python",
   "pygments_lexer": "ipython3",
   "version": "3.7.4"
  }
 },
 "nbformat": 4,
 "nbformat_minor": 4
}
