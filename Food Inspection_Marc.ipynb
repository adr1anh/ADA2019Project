{
 "cells": [
  {
   "cell_type": "code",
   "execution_count": 348,
   "metadata": {},
   "outputs": [],
   "source": [
    "import os\n",
    "import pandas as pd\n",
    "import numpy as np\n",
    "import seaborn as snb\n",
    "import matplotlib.pyplot as plt\n",
    "import folium\n",
    "import json"
   ]
  },
  {
   "cell_type": "markdown",
   "metadata": {},
   "source": [
    "## Cleaning Data"
   ]
  },
  {
   "cell_type": "code",
   "execution_count": 311,
   "metadata": {},
   "outputs": [
    {
     "data": {
      "text/html": [
       "<div>\n",
       "<style scoped>\n",
       "    .dataframe tbody tr th:only-of-type {\n",
       "        vertical-align: middle;\n",
       "    }\n",
       "\n",
       "    .dataframe tbody tr th {\n",
       "        vertical-align: top;\n",
       "    }\n",
       "\n",
       "    .dataframe thead th {\n",
       "        text-align: right;\n",
       "    }\n",
       "</style>\n",
       "<table border=\"1\" class=\"dataframe\">\n",
       "  <thead>\n",
       "    <tr style=\"text-align: right;\">\n",
       "      <th></th>\n",
       "      <th>Inspection ID</th>\n",
       "      <th>DBA Name</th>\n",
       "      <th>AKA Name</th>\n",
       "      <th>License #</th>\n",
       "      <th>Facility Type</th>\n",
       "      <th>Risk</th>\n",
       "      <th>Address</th>\n",
       "      <th>City</th>\n",
       "      <th>State</th>\n",
       "      <th>Zip</th>\n",
       "      <th>...</th>\n",
       "      <th>Results</th>\n",
       "      <th>Violations</th>\n",
       "      <th>Latitude</th>\n",
       "      <th>Longitude</th>\n",
       "      <th>Location</th>\n",
       "      <th>Historical Wards 2003-2015</th>\n",
       "      <th>Zip Codes</th>\n",
       "      <th>Community Areas</th>\n",
       "      <th>Census Tracts</th>\n",
       "      <th>Wards</th>\n",
       "    </tr>\n",
       "  </thead>\n",
       "  <tbody>\n",
       "    <tr>\n",
       "      <td>0</td>\n",
       "      <td>2345323</td>\n",
       "      <td>ARMAND'S PIZZERIA</td>\n",
       "      <td>ARMAND'S PIZZERIA</td>\n",
       "      <td>2698587.0</td>\n",
       "      <td>Restaurant</td>\n",
       "      <td>Risk 1 (High)</td>\n",
       "      <td>29 N WACKER DR</td>\n",
       "      <td>CHICAGO</td>\n",
       "      <td>IL</td>\n",
       "      <td>60606.0</td>\n",
       "      <td>...</td>\n",
       "      <td>Pass w/ Conditions</td>\n",
       "      <td>3. MANAGEMENT, FOOD EMPLOYEE AND CONDITIONAL E...</td>\n",
       "      <td>41.882700</td>\n",
       "      <td>-87.636638</td>\n",
       "      <td>{'longitude': '41.88270035458986', 'latitude':...</td>\n",
       "      <td>NaN</td>\n",
       "      <td>NaN</td>\n",
       "      <td>NaN</td>\n",
       "      <td>NaN</td>\n",
       "      <td>NaN</td>\n",
       "    </tr>\n",
       "    <tr>\n",
       "      <td>1</td>\n",
       "      <td>2345321</td>\n",
       "      <td>GOPUFF</td>\n",
       "      <td>GOPUFF</td>\n",
       "      <td>2684560.0</td>\n",
       "      <td>Grocery Store</td>\n",
       "      <td>Risk 3 (Low)</td>\n",
       "      <td>1801 W WARNER AVE</td>\n",
       "      <td>CHICAGO</td>\n",
       "      <td>IL</td>\n",
       "      <td>60613.0</td>\n",
       "      <td>...</td>\n",
       "      <td>Pass</td>\n",
       "      <td>NaN</td>\n",
       "      <td>41.956846</td>\n",
       "      <td>-87.674395</td>\n",
       "      <td>{'longitude': '41.956845683288854', 'latitude'...</td>\n",
       "      <td>NaN</td>\n",
       "      <td>NaN</td>\n",
       "      <td>NaN</td>\n",
       "      <td>NaN</td>\n",
       "      <td>NaN</td>\n",
       "    </tr>\n",
       "    <tr>\n",
       "      <td>2</td>\n",
       "      <td>2345325</td>\n",
       "      <td>TACO MAX MEXICAN GRILL</td>\n",
       "      <td>TACO MAX MEXICAN GRILL</td>\n",
       "      <td>2699082.0</td>\n",
       "      <td>Restaurant</td>\n",
       "      <td>Risk 1 (High)</td>\n",
       "      <td>3402 W MONTROSE AVE</td>\n",
       "      <td>CHICAGO</td>\n",
       "      <td>IL</td>\n",
       "      <td>60618.0</td>\n",
       "      <td>...</td>\n",
       "      <td>Pass w/ Conditions</td>\n",
       "      <td>3. MANAGEMENT, FOOD EMPLOYEE AND CONDITIONAL E...</td>\n",
       "      <td>41.961238</td>\n",
       "      <td>-87.713284</td>\n",
       "      <td>{'longitude': '41.961237630038035', 'latitude'...</td>\n",
       "      <td>NaN</td>\n",
       "      <td>NaN</td>\n",
       "      <td>NaN</td>\n",
       "      <td>NaN</td>\n",
       "      <td>NaN</td>\n",
       "    </tr>\n",
       "    <tr>\n",
       "      <td>3</td>\n",
       "      <td>2345370</td>\n",
       "      <td>CAFE BALLOU</td>\n",
       "      <td>CAFE BALLOU &amp; DELI</td>\n",
       "      <td>2433048.0</td>\n",
       "      <td>Restaurant</td>\n",
       "      <td>Risk 1 (High)</td>\n",
       "      <td>939 N WESTERN AVE</td>\n",
       "      <td>CHICAGO</td>\n",
       "      <td>IL</td>\n",
       "      <td>60622.0</td>\n",
       "      <td>...</td>\n",
       "      <td>No Entry</td>\n",
       "      <td>NaN</td>\n",
       "      <td>41.898706</td>\n",
       "      <td>-87.686773</td>\n",
       "      <td>{'longitude': '41.89870606533506', 'latitude':...</td>\n",
       "      <td>NaN</td>\n",
       "      <td>NaN</td>\n",
       "      <td>NaN</td>\n",
       "      <td>NaN</td>\n",
       "      <td>NaN</td>\n",
       "    </tr>\n",
       "    <tr>\n",
       "      <td>4</td>\n",
       "      <td>2345376</td>\n",
       "      <td>GARIBAY POULTRY</td>\n",
       "      <td>GARIBAY POULTRY</td>\n",
       "      <td>1908500.0</td>\n",
       "      <td>CUSTOM POULTRY SLAUGHTER</td>\n",
       "      <td>Risk 2 (Medium)</td>\n",
       "      <td>2100 S CALIFORNIA AVE</td>\n",
       "      <td>CHICAGO</td>\n",
       "      <td>IL</td>\n",
       "      <td>60608.0</td>\n",
       "      <td>...</td>\n",
       "      <td>Pass</td>\n",
       "      <td>47. FOOD &amp; NON-FOOD CONTACT SURFACES CLEANABLE...</td>\n",
       "      <td>41.853688</td>\n",
       "      <td>-87.695652</td>\n",
       "      <td>{'longitude': '41.85368770723974', 'latitude':...</td>\n",
       "      <td>NaN</td>\n",
       "      <td>NaN</td>\n",
       "      <td>NaN</td>\n",
       "      <td>NaN</td>\n",
       "      <td>NaN</td>\n",
       "    </tr>\n",
       "  </tbody>\n",
       "</table>\n",
       "<p>5 rows × 22 columns</p>\n",
       "</div>"
      ],
      "text/plain": [
       "   Inspection ID                DBA Name                AKA Name  License #  \\\n",
       "0        2345323       ARMAND'S PIZZERIA       ARMAND'S PIZZERIA  2698587.0   \n",
       "1        2345321                  GOPUFF                  GOPUFF  2684560.0   \n",
       "2        2345325  TACO MAX MEXICAN GRILL  TACO MAX MEXICAN GRILL  2699082.0   \n",
       "3        2345370             CAFE BALLOU      CAFE BALLOU & DELI  2433048.0   \n",
       "4        2345376         GARIBAY POULTRY         GARIBAY POULTRY  1908500.0   \n",
       "\n",
       "              Facility Type             Risk                 Address     City  \\\n",
       "0                Restaurant    Risk 1 (High)         29 N WACKER DR   CHICAGO   \n",
       "1             Grocery Store     Risk 3 (Low)      1801 W WARNER AVE   CHICAGO   \n",
       "2                Restaurant    Risk 1 (High)    3402 W MONTROSE AVE   CHICAGO   \n",
       "3                Restaurant    Risk 1 (High)      939 N WESTERN AVE   CHICAGO   \n",
       "4  CUSTOM POULTRY SLAUGHTER  Risk 2 (Medium)  2100 S CALIFORNIA AVE   CHICAGO   \n",
       "\n",
       "  State      Zip  ...             Results  \\\n",
       "0    IL  60606.0  ...  Pass w/ Conditions   \n",
       "1    IL  60613.0  ...                Pass   \n",
       "2    IL  60618.0  ...  Pass w/ Conditions   \n",
       "3    IL  60622.0  ...            No Entry   \n",
       "4    IL  60608.0  ...                Pass   \n",
       "\n",
       "                                          Violations   Latitude  Longitude  \\\n",
       "0  3. MANAGEMENT, FOOD EMPLOYEE AND CONDITIONAL E...  41.882700 -87.636638   \n",
       "1                                                NaN  41.956846 -87.674395   \n",
       "2  3. MANAGEMENT, FOOD EMPLOYEE AND CONDITIONAL E...  41.961238 -87.713284   \n",
       "3                                                NaN  41.898706 -87.686773   \n",
       "4  47. FOOD & NON-FOOD CONTACT SURFACES CLEANABLE...  41.853688 -87.695652   \n",
       "\n",
       "                                            Location  \\\n",
       "0  {'longitude': '41.88270035458986', 'latitude':...   \n",
       "1  {'longitude': '41.956845683288854', 'latitude'...   \n",
       "2  {'longitude': '41.961237630038035', 'latitude'...   \n",
       "3  {'longitude': '41.89870606533506', 'latitude':...   \n",
       "4  {'longitude': '41.85368770723974', 'latitude':...   \n",
       "\n",
       "   Historical Wards 2003-2015 Zip Codes  Community Areas  Census Tracts  Wards  \n",
       "0                         NaN       NaN              NaN            NaN    NaN  \n",
       "1                         NaN       NaN              NaN            NaN    NaN  \n",
       "2                         NaN       NaN              NaN            NaN    NaN  \n",
       "3                         NaN       NaN              NaN            NaN    NaN  \n",
       "4                         NaN       NaN              NaN            NaN    NaN  \n",
       "\n",
       "[5 rows x 22 columns]"
      ]
     },
     "execution_count": 311,
     "metadata": {},
     "output_type": "execute_result"
    }
   ],
   "source": [
    "data = pd.read_csv('food-inspections.csv')\n",
    "data.head()\n"
   ]
  },
  {
   "cell_type": "markdown",
   "metadata": {},
   "source": [
    "Let's consider only the dataset that contains non NA values for Longitude or Lagitude and we transform the Risk column into an int value column"
   ]
  },
  {
   "cell_type": "code",
   "execution_count": 313,
   "metadata": {},
   "outputs": [
    {
     "data": {
      "text/plain": [
       "3.0    139031\n",
       "2.0     37402\n",
       "1.0     16192\n",
       "Name: Risk, dtype: int64"
      ]
     },
     "execution_count": 313,
     "metadata": {},
     "output_type": "execute_result"
    }
   ],
   "source": [
    "loc= data[[\"Latitude\",\"Longitude\",\"AKA Name\",\"Risk\"]]\n",
    "missing = loc[loc.isnull().any(axis = 1)]\n",
    "data_removed = data.drop(missing.index)\n",
    "data_removed = data_removed.reset_index()\n",
    "data_removed[\"Risk\"] = data_removed[\"Risk\"].replace(to_replace =[\"Risk 3 (Low)\", \"Risk 2 (Medium)\", \"Risk 1 (High)\",\"All\"],  \n",
    "                            value =[1,2,3,3]) \n",
    "data_removed.Risk = data_removed.Risk.astype(float)\n",
    "data_removed[\"Risk\"].value_counts()"
   ]
  },
  {
   "cell_type": "markdown",
   "metadata": {},
   "source": [
    "We know create a DataFrame containing all the data we want to plot in function of it Zip code hence we need to groupby zip and create features to our DataFrame"
   ]
  },
  {
   "cell_type": "code",
   "execution_count": 379,
   "metadata": {},
   "outputs": [
    {
     "data": {
      "text/html": [
       "<div>\n",
       "<style scoped>\n",
       "    .dataframe tbody tr th:only-of-type {\n",
       "        vertical-align: middle;\n",
       "    }\n",
       "\n",
       "    .dataframe tbody tr th {\n",
       "        vertical-align: top;\n",
       "    }\n",
       "\n",
       "    .dataframe thead th {\n",
       "        text-align: right;\n",
       "    }\n",
       "</style>\n",
       "<table border=\"1\" class=\"dataframe\">\n",
       "  <thead>\n",
       "    <tr style=\"text-align: right;\">\n",
       "      <th></th>\n",
       "      <th>Zip</th>\n",
       "      <th>Risk</th>\n",
       "      <th>Count</th>\n",
       "      <th>Fail</th>\n",
       "    </tr>\n",
       "  </thead>\n",
       "  <tbody>\n",
       "    <tr>\n",
       "      <td>0</td>\n",
       "      <td>60148</td>\n",
       "      <td>3.00000</td>\n",
       "      <td>1</td>\n",
       "      <td>0.0</td>\n",
       "    </tr>\n",
       "    <tr>\n",
       "      <td>1</td>\n",
       "      <td>60406</td>\n",
       "      <td>3.00000</td>\n",
       "      <td>1</td>\n",
       "      <td>0.0</td>\n",
       "    </tr>\n",
       "    <tr>\n",
       "      <td>2</td>\n",
       "      <td>60501</td>\n",
       "      <td>1.25000</td>\n",
       "      <td>4</td>\n",
       "      <td>3.0</td>\n",
       "    </tr>\n",
       "    <tr>\n",
       "      <td>3</td>\n",
       "      <td>60559</td>\n",
       "      <td>1.00000</td>\n",
       "      <td>1</td>\n",
       "      <td>0.0</td>\n",
       "    </tr>\n",
       "    <tr>\n",
       "      <td>4</td>\n",
       "      <td>60601</td>\n",
       "      <td>2.71938</td>\n",
       "      <td>3225</td>\n",
       "      <td>403.0</td>\n",
       "    </tr>\n",
       "  </tbody>\n",
       "</table>\n",
       "</div>"
      ],
      "text/plain": [
       "     Zip     Risk  Count   Fail\n",
       "0  60148  3.00000      1    0.0\n",
       "1  60406  3.00000      1    0.0\n",
       "2  60501  1.25000      4    3.0\n",
       "3  60559  1.00000      1    0.0\n",
       "4  60601  2.71938   3225  403.0"
      ]
     },
     "execution_count": 379,
     "metadata": {},
     "output_type": "execute_result"
    }
   ],
   "source": [
    "# Count number of failed exams\n",
    "X = data_removed[data_removed['Results'] == 'Fail'].groupby('Zip')[\"Results\"].count()\n",
    "#Groupby ZIPS\n",
    "zip_data = data_removed.groupby(\"Zip\")\n",
    "#Add all features I can think of\n",
    "mean_risk = zip_data.Risk.mean()\n",
    "value_count = data_removed[\"Zip\"].value_counts()\n",
    "risk_map = pd.DataFrame(mean_risk)\n",
    "risk_map[\"Count\"] = value_count\n",
    "risk_map[\"Fail\"] = X\n",
    "risk_map = risk_map.reset_index()\n",
    "risk_map[\"Zip\"] = risk_map[\"Zip\"].astype(int)\n",
    "risk_map = risk_map.fillna(0)\n",
    "risk_map.head()"
   ]
  },
  {
   "cell_type": "markdown",
   "metadata": {},
   "source": [
    "## Having some fun with Folium "
   ]
  },
  {
   "cell_type": "code",
   "execution_count": 306,
   "metadata": {},
   "outputs": [],
   "source": [
    "coord = [data_removed[\"Latitude\"][0],data_removed[\"Longitude\"][0]]\n",
    "m= folium.Map(location= coord,tiles='Stamen Toner', zoom_start=10)\n"
   ]
  },
  {
   "cell_type": "code",
   "execution_count": 307,
   "metadata": {},
   "outputs": [
    {
     "data": {
      "text/plain": [
       "5939874"
      ]
     },
     "execution_count": 307,
     "metadata": {},
     "output_type": "execute_result"
    }
   ],
   "source": [
    "# load GeoJSON\n",
    "with open('Boundaries - ZIP Codes.geojson', 'r') as jsonFile:\n",
    "    data = json.load(jsonFile)\n",
    "tmp = data\n",
    "\n",
    "# remove ZIP codes not in our dataset\n",
    "geozips = []\n",
    "A=[]\n",
    "for i in range(len(tmp['features'])):\n",
    "    A.append(int((tmp['features'][i]['properties']['zip'])))\n",
    "    if A[i] in (risk_map[\"Zip\"].unique()):\n",
    "        tmp['features'][i]['properties']['zip'] = int((tmp['features'][i]['properties']['zip']))\n",
    "        geozips.append(tmp['features'][i])\n",
    "        \n",
    "# creating new JSON object\n",
    "new_json = dict.fromkeys(['type','features'])\n",
    "new_json['type'] = 'FeatureCollection'\n",
    "new_json['features'] = geozips\n",
    "\n",
    "# save JSON object as updated-file\n",
    "open(\"updated-file.json\", \"w\").write(\n",
    "    json.dumps(new_json, sort_keys=True, indent=4, separators=(',', ': '))\n",
    ")"
   ]
  },
  {
   "cell_type": "markdown",
   "metadata": {},
   "source": [
    "We have created a JSON file containing all information needed for our ZIP code that are given in our data and that can be found also in Boundaries - ZIP Codes.geojson. We get a dataset with 61 entries, better to find one with more ZIP "
   ]
  },
  {
   "cell_type": "code",
   "execution_count": 383,
   "metadata": {},
   "outputs": [],
   "source": [
    "def create_map(table, zips, mapped_feature, add_text = ''):\n",
    "    # reading of the updated GeoJSON file\n",
    "    geo = r'updated-file.json'\n",
    "    # initiating a Folium map with LA's longitude and latitude\n",
    "    m = folium.Map(location = coord, tiles='cartodbpositron',zoom_start = 11)\n",
    "    # creating a choropleth map\n",
    "    m.choropleth(\n",
    "        geo_data = geo,\n",
    "        fill_opacity = 0.7,\n",
    "        line_opacity = 0.2,\n",
    "        data = table,\n",
    "        # refers to which key within the GeoJSON to map the ZIP code to\n",
    "        key_on = 'feature.properties.zip',\n",
    "        # first element contains location information, second element contains feature of interest\n",
    "        columns = [zips, mapped_feature],\n",
    "        fill_color = 'BuPu',\n",
    "        legend_name = (' ').join(mapped_feature.split('_')).title() + ' Number of facilites ' + add_text + ' Across Chigaco'\n",
    "    )\n",
    "    folium.LayerControl().add_to(m)\n",
    "    # save map with filename based on the feature of interest\n",
    "    m.save(outfile = mapped_feature + '_map.html')"
   ]
  },
  {
   "cell_type": "code",
   "execution_count": 384,
   "metadata": {},
   "outputs": [],
   "source": [
    "create_map(risk_map, 'Zip', 'Risk', 'of Facilities')\n",
    "create_map(risk_map, 'Zip', 'Count', 'of Facilities')\n",
    "create_map(risk_map, 'Zip', 'Fail', 'of Facilities')\n"
   ]
  },
  {
   "cell_type": "markdown",
   "metadata": {},
   "source": [
    "Now Let's look at the HeatMap folium function found on the folium Package"
   ]
  },
  {
   "cell_type": "code",
   "execution_count": 281,
   "metadata": {},
   "outputs": [],
   "source": [
    "def generateBaseMap(default_location=coord, default_zoom_start=12):\n",
    "    base_map = folium.Map(location=default_location, control_scale=True, zoom_start=default_zoom_start)\n",
    "    return base_map"
   ]
  },
  {
   "cell_type": "code",
   "execution_count": 282,
   "metadata": {},
   "outputs": [
    {
     "data": {
      "text/plain": [
       "<folium.plugins.heat_map.HeatMap at 0x2544da369c8>"
      ]
     },
     "execution_count": 282,
     "metadata": {},
     "output_type": "execute_result"
    }
   ],
   "source": [
    "from folium.plugins import HeatMap\n",
    "base_map = generateBaseMap()\n",
    "HeatMap(data=data_removed[['Latitude', 'Longitude']].groupby(['Latitude', 'Longitude']).sum().reset_index().values.tolist(), radius=8, max_zoom=13).add_to(base_map)\n",
    "base_map.save(\"Heatmap of facilities\")"
   ]
  },
  {
   "cell_type": "code",
   "execution_count": null,
   "metadata": {},
   "outputs": [],
   "source": []
  },
  {
   "cell_type": "markdown",
   "metadata": {},
   "source": [
    "## Useless for now"
   ]
  },
  {
   "cell_type": "code",
   "execution_count": 299,
   "metadata": {},
   "outputs": [],
   "source": [
    "state_geo_path = r\"updated-file.json\"\n",
    "geo_json_data = json.load(open(state_geo_path))\n",
    "m_usa = folium.Map(coord, tiles='cartodbpositron', zoom_start=10)\n",
    "folium.GeoJson(geo_json_data).add_to(m_usa)\n",
    "folium.Choropleth(\n",
    "    geo_data=geo_json_data,\n",
    "    name='choropleth',\n",
    "    data=risk_map,\n",
    "    columns=['Zip', 'Risk'],\n",
    "    key_on='feature.properties.zip',\n",
    "    fill_color='BuPu',\n",
    "    fill_opacity=0.5,\n",
    "    line_opacity=0.2,\n",
    "    legend_name='Risk given to restaurant'\n",
    "    \n",
    ").add_to(m_usa)\n",
    "folium.LayerControl().add_to(m_usa)\n",
    "m_usa.save('Marco.html')\n"
   ]
  },
  {
   "cell_type": "code",
   "execution_count": 349,
   "metadata": {},
   "outputs": [
    {
     "name": "stdout",
     "output_type": "stream",
     "text": [
      "The possible results for each facilites are the follwoing with the results given by:\n"
     ]
    },
    {
     "data": {
      "text/plain": [
       "Pass                    105795\n",
       "Fail                     37870\n",
       "Pass w/ Conditions       27105\n",
       "Out of Business          16844\n",
       "No Entry                  6237\n",
       "Not Ready                 1877\n",
       "Business Not Located        68\n",
       "Name: Results, dtype: int64"
      ]
     },
     "metadata": {},
     "output_type": "display_data"
    }
   ],
   "source": [
    "fac = (data['Facility Type'].value_counts())\n",
    "print(\"The possible results for each facilites are the follwoing with the results given by:\")\n",
    "display(data['Results'].value_counts())"
   ]
  },
  {
   "cell_type": "code",
   "execution_count": 350,
   "metadata": {},
   "outputs": [
    {
     "data": {
      "image/png": "[encoded data removed]",
      "text/plain": [
       "<Figure size 864x432 with 1 Axes>"
      ]
     },
     "metadata": {
      "needs_background": "light"
     },
     "output_type": "display_data"
    }
   ],
   "source": [
    "facility = data.groupby(\"Risk\")\n",
    "facility['Results'].value_counts().unstack(0).plot.barh(figsize=(12,6))\n",
    "plt.show()"
   ]
  },
  {
   "cell_type": "code",
   "execution_count": null,
   "metadata": {},
   "outputs": [],
   "source": []
  }
 ],
 "metadata": {
  "kernelspec": {
   "display_name": "Python 3",
   "language": "python",
   "name": "python3"
  },
  "language_info": {
   "codemirror_mode": {
    "name": "ipython",
    "version": 3
   },
   "file_extension": ".py",
   "mimetype": "text/x-python",
   "name": "python",
   "nbconvert_exporter": "python",
   "pygments_lexer": "ipython3",
   "version": "3.7.4"
  }
 },
 "nbformat": 4,
 "nbformat_minor": 4
}
